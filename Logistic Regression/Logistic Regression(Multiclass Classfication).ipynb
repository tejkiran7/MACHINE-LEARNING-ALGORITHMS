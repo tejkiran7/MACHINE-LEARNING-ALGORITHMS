{
 "cells": [
  {
   "cell_type": "code",
   "execution_count": 1,
   "metadata": {},
   "outputs": [],
   "source": [
    "import pandas as pd\n",
    "import numpy as np\n",
    "from matplotlib import pyplot as plt\n",
    "%matplotlib inline\n",
    "\n",
    "from sklearn.datasets import load_digits"
   ]
  },
  {
   "cell_type": "code",
   "execution_count": 2,
   "metadata": {},
   "outputs": [
    {
     "data": {
      "text/html": [
       "<div>\n",
       "<style scoped>\n",
       "    .dataframe tbody tr th:only-of-type {\n",
       "        vertical-align: middle;\n",
       "    }\n",
       "\n",
       "    .dataframe tbody tr th {\n",
       "        vertical-align: top;\n",
       "    }\n",
       "\n",
       "    .dataframe thead th {\n",
       "        text-align: right;\n",
       "    }\n",
       "</style>\n",
       "<table border=\"1\" class=\"dataframe\">\n",
       "  <thead>\n",
       "    <tr style=\"text-align: right;\">\n",
       "      <th></th>\n",
       "      <th>pixel_0_0</th>\n",
       "      <th>pixel_0_1</th>\n",
       "      <th>pixel_0_2</th>\n",
       "      <th>pixel_0_3</th>\n",
       "      <th>pixel_0_4</th>\n",
       "      <th>pixel_0_5</th>\n",
       "      <th>pixel_0_6</th>\n",
       "      <th>pixel_0_7</th>\n",
       "      <th>pixel_1_0</th>\n",
       "      <th>pixel_1_1</th>\n",
       "      <th>...</th>\n",
       "      <th>pixel_6_6</th>\n",
       "      <th>pixel_6_7</th>\n",
       "      <th>pixel_7_0</th>\n",
       "      <th>pixel_7_1</th>\n",
       "      <th>pixel_7_2</th>\n",
       "      <th>pixel_7_3</th>\n",
       "      <th>pixel_7_4</th>\n",
       "      <th>pixel_7_5</th>\n",
       "      <th>pixel_7_6</th>\n",
       "      <th>pixel_7_7</th>\n",
       "    </tr>\n",
       "  </thead>\n",
       "  <tbody>\n",
       "    <tr>\n",
       "      <th>0</th>\n",
       "      <td>0.0</td>\n",
       "      <td>0.0</td>\n",
       "      <td>5.0</td>\n",
       "      <td>13.0</td>\n",
       "      <td>9.0</td>\n",
       "      <td>1.0</td>\n",
       "      <td>0.0</td>\n",
       "      <td>0.0</td>\n",
       "      <td>0.0</td>\n",
       "      <td>0.0</td>\n",
       "      <td>...</td>\n",
       "      <td>0.0</td>\n",
       "      <td>0.0</td>\n",
       "      <td>0.0</td>\n",
       "      <td>0.0</td>\n",
       "      <td>6.0</td>\n",
       "      <td>13.0</td>\n",
       "      <td>10.0</td>\n",
       "      <td>0.0</td>\n",
       "      <td>0.0</td>\n",
       "      <td>0.0</td>\n",
       "    </tr>\n",
       "    <tr>\n",
       "      <th>1</th>\n",
       "      <td>0.0</td>\n",
       "      <td>0.0</td>\n",
       "      <td>0.0</td>\n",
       "      <td>12.0</td>\n",
       "      <td>13.0</td>\n",
       "      <td>5.0</td>\n",
       "      <td>0.0</td>\n",
       "      <td>0.0</td>\n",
       "      <td>0.0</td>\n",
       "      <td>0.0</td>\n",
       "      <td>...</td>\n",
       "      <td>0.0</td>\n",
       "      <td>0.0</td>\n",
       "      <td>0.0</td>\n",
       "      <td>0.0</td>\n",
       "      <td>0.0</td>\n",
       "      <td>11.0</td>\n",
       "      <td>16.0</td>\n",
       "      <td>10.0</td>\n",
       "      <td>0.0</td>\n",
       "      <td>0.0</td>\n",
       "    </tr>\n",
       "    <tr>\n",
       "      <th>2</th>\n",
       "      <td>0.0</td>\n",
       "      <td>0.0</td>\n",
       "      <td>0.0</td>\n",
       "      <td>4.0</td>\n",
       "      <td>15.0</td>\n",
       "      <td>12.0</td>\n",
       "      <td>0.0</td>\n",
       "      <td>0.0</td>\n",
       "      <td>0.0</td>\n",
       "      <td>0.0</td>\n",
       "      <td>...</td>\n",
       "      <td>5.0</td>\n",
       "      <td>0.0</td>\n",
       "      <td>0.0</td>\n",
       "      <td>0.0</td>\n",
       "      <td>0.0</td>\n",
       "      <td>3.0</td>\n",
       "      <td>11.0</td>\n",
       "      <td>16.0</td>\n",
       "      <td>9.0</td>\n",
       "      <td>0.0</td>\n",
       "    </tr>\n",
       "    <tr>\n",
       "      <th>3</th>\n",
       "      <td>0.0</td>\n",
       "      <td>0.0</td>\n",
       "      <td>7.0</td>\n",
       "      <td>15.0</td>\n",
       "      <td>13.0</td>\n",
       "      <td>1.0</td>\n",
       "      <td>0.0</td>\n",
       "      <td>0.0</td>\n",
       "      <td>0.0</td>\n",
       "      <td>8.0</td>\n",
       "      <td>...</td>\n",
       "      <td>9.0</td>\n",
       "      <td>0.0</td>\n",
       "      <td>0.0</td>\n",
       "      <td>0.0</td>\n",
       "      <td>7.0</td>\n",
       "      <td>13.0</td>\n",
       "      <td>13.0</td>\n",
       "      <td>9.0</td>\n",
       "      <td>0.0</td>\n",
       "      <td>0.0</td>\n",
       "    </tr>\n",
       "    <tr>\n",
       "      <th>4</th>\n",
       "      <td>0.0</td>\n",
       "      <td>0.0</td>\n",
       "      <td>0.0</td>\n",
       "      <td>1.0</td>\n",
       "      <td>11.0</td>\n",
       "      <td>0.0</td>\n",
       "      <td>0.0</td>\n",
       "      <td>0.0</td>\n",
       "      <td>0.0</td>\n",
       "      <td>0.0</td>\n",
       "      <td>...</td>\n",
       "      <td>0.0</td>\n",
       "      <td>0.0</td>\n",
       "      <td>0.0</td>\n",
       "      <td>0.0</td>\n",
       "      <td>0.0</td>\n",
       "      <td>2.0</td>\n",
       "      <td>16.0</td>\n",
       "      <td>4.0</td>\n",
       "      <td>0.0</td>\n",
       "      <td>0.0</td>\n",
       "    </tr>\n",
       "    <tr>\n",
       "      <th>...</th>\n",
       "      <td>...</td>\n",
       "      <td>...</td>\n",
       "      <td>...</td>\n",
       "      <td>...</td>\n",
       "      <td>...</td>\n",
       "      <td>...</td>\n",
       "      <td>...</td>\n",
       "      <td>...</td>\n",
       "      <td>...</td>\n",
       "      <td>...</td>\n",
       "      <td>...</td>\n",
       "      <td>...</td>\n",
       "      <td>...</td>\n",
       "      <td>...</td>\n",
       "      <td>...</td>\n",
       "      <td>...</td>\n",
       "      <td>...</td>\n",
       "      <td>...</td>\n",
       "      <td>...</td>\n",
       "      <td>...</td>\n",
       "      <td>...</td>\n",
       "    </tr>\n",
       "    <tr>\n",
       "      <th>1792</th>\n",
       "      <td>0.0</td>\n",
       "      <td>0.0</td>\n",
       "      <td>4.0</td>\n",
       "      <td>10.0</td>\n",
       "      <td>13.0</td>\n",
       "      <td>6.0</td>\n",
       "      <td>0.0</td>\n",
       "      <td>0.0</td>\n",
       "      <td>0.0</td>\n",
       "      <td>1.0</td>\n",
       "      <td>...</td>\n",
       "      <td>4.0</td>\n",
       "      <td>0.0</td>\n",
       "      <td>0.0</td>\n",
       "      <td>0.0</td>\n",
       "      <td>2.0</td>\n",
       "      <td>14.0</td>\n",
       "      <td>15.0</td>\n",
       "      <td>9.0</td>\n",
       "      <td>0.0</td>\n",
       "      <td>0.0</td>\n",
       "    </tr>\n",
       "    <tr>\n",
       "      <th>1793</th>\n",
       "      <td>0.0</td>\n",
       "      <td>0.0</td>\n",
       "      <td>6.0</td>\n",
       "      <td>16.0</td>\n",
       "      <td>13.0</td>\n",
       "      <td>11.0</td>\n",
       "      <td>1.0</td>\n",
       "      <td>0.0</td>\n",
       "      <td>0.0</td>\n",
       "      <td>0.0</td>\n",
       "      <td>...</td>\n",
       "      <td>1.0</td>\n",
       "      <td>0.0</td>\n",
       "      <td>0.0</td>\n",
       "      <td>0.0</td>\n",
       "      <td>6.0</td>\n",
       "      <td>16.0</td>\n",
       "      <td>14.0</td>\n",
       "      <td>6.0</td>\n",
       "      <td>0.0</td>\n",
       "      <td>0.0</td>\n",
       "    </tr>\n",
       "    <tr>\n",
       "      <th>1794</th>\n",
       "      <td>0.0</td>\n",
       "      <td>0.0</td>\n",
       "      <td>1.0</td>\n",
       "      <td>11.0</td>\n",
       "      <td>15.0</td>\n",
       "      <td>1.0</td>\n",
       "      <td>0.0</td>\n",
       "      <td>0.0</td>\n",
       "      <td>0.0</td>\n",
       "      <td>0.0</td>\n",
       "      <td>...</td>\n",
       "      <td>0.0</td>\n",
       "      <td>0.0</td>\n",
       "      <td>0.0</td>\n",
       "      <td>0.0</td>\n",
       "      <td>2.0</td>\n",
       "      <td>9.0</td>\n",
       "      <td>13.0</td>\n",
       "      <td>6.0</td>\n",
       "      <td>0.0</td>\n",
       "      <td>0.0</td>\n",
       "    </tr>\n",
       "    <tr>\n",
       "      <th>1795</th>\n",
       "      <td>0.0</td>\n",
       "      <td>0.0</td>\n",
       "      <td>2.0</td>\n",
       "      <td>10.0</td>\n",
       "      <td>7.0</td>\n",
       "      <td>0.0</td>\n",
       "      <td>0.0</td>\n",
       "      <td>0.0</td>\n",
       "      <td>0.0</td>\n",
       "      <td>0.0</td>\n",
       "      <td>...</td>\n",
       "      <td>2.0</td>\n",
       "      <td>0.0</td>\n",
       "      <td>0.0</td>\n",
       "      <td>0.0</td>\n",
       "      <td>5.0</td>\n",
       "      <td>12.0</td>\n",
       "      <td>16.0</td>\n",
       "      <td>12.0</td>\n",
       "      <td>0.0</td>\n",
       "      <td>0.0</td>\n",
       "    </tr>\n",
       "    <tr>\n",
       "      <th>1796</th>\n",
       "      <td>0.0</td>\n",
       "      <td>0.0</td>\n",
       "      <td>10.0</td>\n",
       "      <td>14.0</td>\n",
       "      <td>8.0</td>\n",
       "      <td>1.0</td>\n",
       "      <td>0.0</td>\n",
       "      <td>0.0</td>\n",
       "      <td>0.0</td>\n",
       "      <td>2.0</td>\n",
       "      <td>...</td>\n",
       "      <td>8.0</td>\n",
       "      <td>0.0</td>\n",
       "      <td>0.0</td>\n",
       "      <td>1.0</td>\n",
       "      <td>8.0</td>\n",
       "      <td>12.0</td>\n",
       "      <td>14.0</td>\n",
       "      <td>12.0</td>\n",
       "      <td>1.0</td>\n",
       "      <td>0.0</td>\n",
       "    </tr>\n",
       "  </tbody>\n",
       "</table>\n",
       "<p>1797 rows × 64 columns</p>\n",
       "</div>"
      ],
      "text/plain": [
       "      pixel_0_0  pixel_0_1  pixel_0_2  pixel_0_3  pixel_0_4  pixel_0_5  \\\n",
       "0           0.0        0.0        5.0       13.0        9.0        1.0   \n",
       "1           0.0        0.0        0.0       12.0       13.0        5.0   \n",
       "2           0.0        0.0        0.0        4.0       15.0       12.0   \n",
       "3           0.0        0.0        7.0       15.0       13.0        1.0   \n",
       "4           0.0        0.0        0.0        1.0       11.0        0.0   \n",
       "...         ...        ...        ...        ...        ...        ...   \n",
       "1792        0.0        0.0        4.0       10.0       13.0        6.0   \n",
       "1793        0.0        0.0        6.0       16.0       13.0       11.0   \n",
       "1794        0.0        0.0        1.0       11.0       15.0        1.0   \n",
       "1795        0.0        0.0        2.0       10.0        7.0        0.0   \n",
       "1796        0.0        0.0       10.0       14.0        8.0        1.0   \n",
       "\n",
       "      pixel_0_6  pixel_0_7  pixel_1_0  pixel_1_1  ...  pixel_6_6  pixel_6_7  \\\n",
       "0           0.0        0.0        0.0        0.0  ...        0.0        0.0   \n",
       "1           0.0        0.0        0.0        0.0  ...        0.0        0.0   \n",
       "2           0.0        0.0        0.0        0.0  ...        5.0        0.0   \n",
       "3           0.0        0.0        0.0        8.0  ...        9.0        0.0   \n",
       "4           0.0        0.0        0.0        0.0  ...        0.0        0.0   \n",
       "...         ...        ...        ...        ...  ...        ...        ...   \n",
       "1792        0.0        0.0        0.0        1.0  ...        4.0        0.0   \n",
       "1793        1.0        0.0        0.0        0.0  ...        1.0        0.0   \n",
       "1794        0.0        0.0        0.0        0.0  ...        0.0        0.0   \n",
       "1795        0.0        0.0        0.0        0.0  ...        2.0        0.0   \n",
       "1796        0.0        0.0        0.0        2.0  ...        8.0        0.0   \n",
       "\n",
       "      pixel_7_0  pixel_7_1  pixel_7_2  pixel_7_3  pixel_7_4  pixel_7_5  \\\n",
       "0           0.0        0.0        6.0       13.0       10.0        0.0   \n",
       "1           0.0        0.0        0.0       11.0       16.0       10.0   \n",
       "2           0.0        0.0        0.0        3.0       11.0       16.0   \n",
       "3           0.0        0.0        7.0       13.0       13.0        9.0   \n",
       "4           0.0        0.0        0.0        2.0       16.0        4.0   \n",
       "...         ...        ...        ...        ...        ...        ...   \n",
       "1792        0.0        0.0        2.0       14.0       15.0        9.0   \n",
       "1793        0.0        0.0        6.0       16.0       14.0        6.0   \n",
       "1794        0.0        0.0        2.0        9.0       13.0        6.0   \n",
       "1795        0.0        0.0        5.0       12.0       16.0       12.0   \n",
       "1796        0.0        1.0        8.0       12.0       14.0       12.0   \n",
       "\n",
       "      pixel_7_6  pixel_7_7  \n",
       "0           0.0        0.0  \n",
       "1           0.0        0.0  \n",
       "2           9.0        0.0  \n",
       "3           0.0        0.0  \n",
       "4           0.0        0.0  \n",
       "...         ...        ...  \n",
       "1792        0.0        0.0  \n",
       "1793        0.0        0.0  \n",
       "1794        0.0        0.0  \n",
       "1795        0.0        0.0  \n",
       "1796        1.0        0.0  \n",
       "\n",
       "[1797 rows x 64 columns]"
      ]
     },
     "execution_count": 2,
     "metadata": {},
     "output_type": "execute_result"
    }
   ],
   "source": [
    "df=load_digits()\n",
    "\n",
    "dataset=pd.DataFrame(data=df.data,columns=df.feature_names)\n",
    "dataset"
   ]
  },
  {
   "cell_type": "code",
   "execution_count": 3,
   "metadata": {},
   "outputs": [
    {
     "data": {
      "text/plain": [
       "['DESCR', 'data', 'feature_names', 'frame', 'images', 'target', 'target_names']"
      ]
     },
     "execution_count": 3,
     "metadata": {},
     "output_type": "execute_result"
    }
   ],
   "source": [
    "dir(df)"
   ]
  },
  {
   "cell_type": "code",
   "execution_count": 4,
   "metadata": {},
   "outputs": [
    {
     "data": {
      "text/plain": [
       "array([ 0.,  0.,  5., 13.,  9.,  1.,  0.,  0.,  0.,  0., 13., 15., 10.,\n",
       "       15.,  5.,  0.,  0.,  3., 15.,  2.,  0., 11.,  8.,  0.,  0.,  4.,\n",
       "       12.,  0.,  0.,  8.,  8.,  0.,  0.,  5.,  8.,  0.,  0.,  9.,  8.,\n",
       "        0.,  0.,  4., 11.,  0.,  1., 12.,  7.,  0.,  0.,  2., 14.,  5.,\n",
       "       10., 12.,  0.,  0.,  0.,  0.,  6., 13., 10.,  0.,  0.,  0.])"
      ]
     },
     "execution_count": 4,
     "metadata": {},
     "output_type": "execute_result"
    }
   ],
   "source": [
    "df.data[0]"
   ]
  },
  {
   "cell_type": "code",
   "execution_count": 5,
   "metadata": {},
   "outputs": [
    {
     "data": {
      "text/plain": [
       "<Figure size 432x288 with 0 Axes>"
      ]
     },
     "metadata": {},
     "output_type": "display_data"
    },
    {
     "data": {
      "image/png": "[encoded data removed]",
      "text/plain": [
       "<Figure size 288x288 with 1 Axes>"
      ]
     },
     "metadata": {
      "needs_background": "light"
     },
     "output_type": "display_data"
    },
    {
     "data": {
      "image/png": "[encoded data removed]",
      "text/plain": [
       "<Figure size 288x288 with 1 Axes>"
      ]
     },
     "metadata": {
      "needs_background": "light"
     },
     "output_type": "display_data"
    },
    {
     "data": {
      "image/png": "[encoded data removed]",
      "text/plain": [
       "<Figure size 288x288 with 1 Axes>"
      ]
     },
     "metadata": {
      "needs_background": "light"
     },
     "output_type": "display_data"
    },
    {
     "data": {
      "image/png": "[encoded data removed]",
      "text/plain": [
       "<Figure size 288x288 with 1 Axes>"
      ]
     },
     "metadata": {
      "needs_background": "light"
     },
     "output_type": "display_data"
    },
    {
     "data": {
      "image/png": "[encoded data removed]",
      "text/plain": [
       "<Figure size 288x288 with 1 Axes>"
      ]
     },
     "metadata": {
      "needs_background": "light"
     },
     "output_type": "display_data"
    }
   ],
   "source": [
    "plt.pink()\n",
    "for i in range(5):\n",
    "    plt.matshow(df.images[i])"
   ]
  },
  {
   "cell_type": "code",
   "execution_count": 6,
   "metadata": {},
   "outputs": [
    {
     "data": {
      "text/plain": [
       "array([0, 1, 2, 3, 4])"
      ]
     },
     "execution_count": 6,
     "metadata": {},
     "output_type": "execute_result"
    }
   ],
   "source": [
    "df.target[0:5]"
   ]
  },
  {
   "cell_type": "code",
   "execution_count": 11,
   "metadata": {},
   "outputs": [],
   "source": [
    "from sklearn.model_selection import train_test_split\n",
    "from sklearn.linear_model import LogisticRegression\n",
    "from sklearn.tree import DecisionTreeClassifier"
   ]
  },
  {
   "cell_type": "code",
   "execution_count": 8,
   "metadata": {},
   "outputs": [],
   "source": [
    "X_train, X_test, y_train, y_test=train_test_split(df.data,df.target,test_size=0.2)"
   ]
  },
  {
   "cell_type": "code",
   "execution_count": 13,
   "metadata": {},
   "outputs": [
    {
     "data": {
      "text/plain": [
       "1437"
      ]
     },
     "execution_count": 13,
     "metadata": {},
     "output_type": "execute_result"
    }
   ],
   "source": [
    "len(X_train)"
   ]
  },
  {
   "cell_type": "code",
   "execution_count": 14,
   "metadata": {},
   "outputs": [
    {
     "data": {
      "text/plain": [
       "360"
      ]
     },
     "execution_count": 14,
     "metadata": {},
     "output_type": "execute_result"
    }
   ],
   "source": [
    "len(X_test)"
   ]
  },
  {
   "cell_type": "code",
   "execution_count": 16,
   "metadata": {},
   "outputs": [
    {
     "data": {
      "text/plain": [
       "DecisionTreeClassifier(random_state=0)"
      ]
     },
     "execution_count": 16,
     "metadata": {},
     "output_type": "execute_result"
    }
   ],
   "source": [
    "ds=DecisionTreeClassifier(random_state=0)\n",
    "ds.fit(X_train,y_train)"
   ]
  },
  {
   "cell_type": "code",
   "execution_count": 18,
   "metadata": {},
   "outputs": [
    {
     "data": {
      "text/plain": [
       "0.8805555555555555"
      ]
     },
     "execution_count": 18,
     "metadata": {},
     "output_type": "execute_result"
    }
   ],
   "source": [
    "y_pred=ds.predict(X_test)\n",
    "from sklearn.metrics import accuracy_score\n",
    "accuracy_score(y_test, y_pred)"
   ]
  },
  {
   "cell_type": "code",
   "execution_count": 21,
   "metadata": {},
   "outputs": [
    {
     "data": {
      "text/plain": [
       "[Text(0.24240944602272727, 0.9642857142857143, 'X[36] <= 0.5\\ngini = 0.9\\nsamples = 1437\\nvalue = [140, 147, 144, 146, 140, 141, 146, 152, 139, 142]'),\n",
       " Text(0.05965909090909091, 0.8928571428571429, 'X[28] <= 2.5\\ngini = 0.544\\nsamples = 213\\nvalue = [136, 0, 3, 1, 5, 17, 5, 0, 3, 43]'),\n",
       " Text(0.028409090909090908, 0.8214285714285714, 'X[21] <= 1.0\\ngini = 0.167\\nsamples = 147\\nvalue = [134, 0, 1, 0, 5, 4, 3, 0, 0, 0]'),\n",
       " Text(0.017045454545454544, 0.75, 'X[53] <= 3.5\\ngini = 0.746\\nsamples = 13\\nvalue = [1, 0, 1, 0, 4, 4, 3, 0, 0, 0]'),\n",
       " Text(0.011363636363636364, 0.6785714285714286, 'gini = 0.0\\nsamples = 4\\nvalue = [0, 0, 0, 0, 0, 4, 0, 0, 0, 0]'),\n",
       " Text(0.022727272727272728, 0.6785714285714286, 'X[29] <= 1.0\\ngini = 0.667\\nsamples = 9\\nvalue = [1, 0, 1, 0, 4, 0, 3, 0, 0, 0]'),\n",
       " Text(0.017045454545454544, 0.6071428571428571, 'X[43] <= 11.5\\ngini = 0.56\\nsamples = 5\\nvalue = [1, 0, 1, 0, 0, 0, 3, 0, 0, 0]'),\n",
       " Text(0.011363636363636364, 0.5357142857142857, 'X[41] <= 4.0\\ngini = 0.5\\nsamples = 2\\nvalue = [1, 0, 1, 0, 0, 0, 0, 0, 0, 0]'),\n",
       " Text(0.005681818181818182, 0.4642857142857143, 'gini = 0.0\\nsamples = 1\\nvalue = [0, 0, 1, 0, 0, 0, 0, 0, 0, 0]'),\n",
       " Text(0.017045454545454544, 0.4642857142857143, 'gini = 0.0\\nsamples = 1\\nvalue = [1, 0, 0, 0, 0, 0, 0, 0, 0, 0]'),\n",
       " Text(0.022727272727272728, 0.5357142857142857, 'gini = 0.0\\nsamples = 3\\nvalue = [0, 0, 0, 0, 0, 0, 3, 0, 0, 0]'),\n",
       " Text(0.028409090909090908, 0.6071428571428571, 'gini = 0.0\\nsamples = 4\\nvalue = [0, 0, 0, 0, 4, 0, 0, 0, 0, 0]'),\n",
       " Text(0.03977272727272727, 0.75, 'X[50] <= 2.5\\ngini = 0.015\\nsamples = 134\\nvalue = [133, 0, 0, 0, 1, 0, 0, 0, 0, 0]'),\n",
       " Text(0.03409090909090909, 0.6785714285714286, 'gini = 0.0\\nsamples = 1\\nvalue = [0, 0, 0, 0, 1, 0, 0, 0, 0, 0]'),\n",
       " Text(0.045454545454545456, 0.6785714285714286, 'gini = 0.0\\nsamples = 133\\nvalue = [133, 0, 0, 0, 0, 0, 0, 0, 0, 0]'),\n",
       " Text(0.09090909090909091, 0.8214285714285714, 'X[21] <= 6.5\\ngini = 0.532\\nsamples = 66\\nvalue = [2, 0, 2, 1, 0, 13, 2, 0, 3, 43]'),\n",
       " Text(0.06818181818181818, 0.75, 'X[43] <= 0.5\\ngini = 0.471\\nsamples = 17\\nvalue = [0, 0, 2, 0, 0, 12, 2, 0, 0, 1]'),\n",
       " Text(0.056818181818181816, 0.6785714285714286, 'X[53] <= 7.5\\ngini = 0.142\\nsamples = 13\\nvalue = [0, 0, 0, 0, 0, 12, 0, 0, 0, 1]'),\n",
       " Text(0.05113636363636364, 0.6071428571428571, 'gini = 0.0\\nsamples = 1\\nvalue = [0, 0, 0, 0, 0, 0, 0, 0, 0, 1]'),\n",
       " Text(0.0625, 0.6071428571428571, 'gini = 0.0\\nsamples = 12\\nvalue = [0, 0, 0, 0, 0, 12, 0, 0, 0, 0]'),\n",
       " Text(0.07954545454545454, 0.6785714285714286, 'X[52] <= 6.5\\ngini = 0.5\\nsamples = 4\\nvalue = [0, 0, 2, 0, 0, 0, 2, 0, 0, 0]'),\n",
       " Text(0.07386363636363637, 0.6071428571428571, 'gini = 0.0\\nsamples = 2\\nvalue = [0, 0, 0, 0, 0, 0, 2, 0, 0, 0]'),\n",
       " Text(0.08522727272727272, 0.6071428571428571, 'gini = 0.0\\nsamples = 2\\nvalue = [0, 0, 2, 0, 0, 0, 0, 0, 0, 0]'),\n",
       " Text(0.11363636363636363, 0.75, 'X[34] <= 8.0\\ngini = 0.259\\nsamples = 49\\nvalue = [2, 0, 0, 1, 0, 1, 0, 0, 3, 42]'),\n",
       " Text(0.10227272727272728, 0.6785714285714286, 'X[18] <= 2.5\\ngini = 0.045\\nsamples = 43\\nvalue = [0, 0, 0, 1, 0, 0, 0, 0, 0, 42]'),\n",
       " Text(0.09659090909090909, 0.6071428571428571, 'gini = 0.0\\nsamples = 1\\nvalue = [0, 0, 0, 1, 0, 0, 0, 0, 0, 0]'),\n",
       " Text(0.10795454545454546, 0.6071428571428571, 'gini = 0.0\\nsamples = 42\\nvalue = [0, 0, 0, 0, 0, 0, 0, 0, 0, 42]'),\n",
       " Text(0.125, 0.6785714285714286, 'X[53] <= 3.0\\ngini = 0.611\\nsamples = 6\\nvalue = [2, 0, 0, 0, 0, 1, 0, 0, 3, 0]'),\n",
       " Text(0.11931818181818182, 0.6071428571428571, 'gini = 0.0\\nsamples = 3\\nvalue = [0, 0, 0, 0, 0, 0, 0, 0, 3, 0]'),\n",
       " Text(0.13068181818181818, 0.6071428571428571, 'X[50] <= 8.0\\ngini = 0.444\\nsamples = 3\\nvalue = [2, 0, 0, 0, 0, 1, 0, 0, 0, 0]'),\n",
       " Text(0.125, 0.5357142857142857, 'gini = 0.0\\nsamples = 1\\nvalue = [0, 0, 0, 0, 0, 1, 0, 0, 0, 0]'),\n",
       " Text(0.13636363636363635, 0.5357142857142857, 'gini = 0.0\\nsamples = 2\\nvalue = [2, 0, 0, 0, 0, 0, 0, 0, 0, 0]'),\n",
       " Text(0.42515980113636365, 0.8928571428571429, 'X[21] <= 0.5\\ngini = 0.888\\nsamples = 1224\\nvalue = [4, 147, 141, 145, 135, 124, 141, 152, 136, 99]'),\n",
       " Text(0.2588778409090909, 0.8214285714285714, 'X[42] <= 7.5\\ngini = 0.736\\nsamples = 364\\nvalue = [0, 33, 36, 12, 25, 114, 137, 4, 2, 1]'),\n",
       " Text(0.20667613636363635, 0.75, 'X[5] <= 2.0\\ngini = 0.597\\nsamples = 185\\nvalue = [0, 26, 25, 11, 5, 111, 1, 3, 2, 1]'),\n",
       " Text(0.18039772727272727, 0.6785714285714286, 'X[19] <= 14.5\\ngini = 0.725\\nsamples = 72\\nvalue = [0, 26, 25, 10, 3, 2, 1, 2, 2, 1]'),\n",
       " Text(0.16193181818181818, 0.6071428571428571, 'X[37] <= 4.0\\ngini = 0.67\\nsamples = 46\\nvalue = [0, 2, 24, 10, 2, 2, 1, 2, 2, 1]'),\n",
       " Text(0.14772727272727273, 0.5357142857142857, 'X[58] <= 0.5\\ngini = 0.203\\nsamples = 27\\nvalue = [0, 2, 24, 0, 0, 0, 0, 0, 1, 0]'),\n",
       " Text(0.14204545454545456, 0.4642857142857143, 'X[13] <= 2.5\\ngini = 0.444\\nsamples = 3\\nvalue = [0, 2, 0, 0, 0, 0, 0, 0, 1, 0]'),\n",
       " Text(0.13636363636363635, 0.39285714285714285, 'gini = 0.0\\nsamples = 2\\nvalue = [0, 2, 0, 0, 0, 0, 0, 0, 0, 0]'),\n",
       " Text(0.14772727272727273, 0.39285714285714285, 'gini = 0.0\\nsamples = 1\\nvalue = [0, 0, 0, 0, 0, 0, 0, 0, 1, 0]'),\n",
       " Text(0.1534090909090909, 0.4642857142857143, 'gini = 0.0\\nsamples = 24\\nvalue = [0, 0, 24, 0, 0, 0, 0, 0, 0, 0]'),\n",
       " Text(0.17613636363636365, 0.5357142857142857, 'X[12] <= 12.5\\ngini = 0.681\\nsamples = 19\\nvalue = [0, 0, 0, 10, 2, 2, 1, 2, 1, 1]'),\n",
       " Text(0.16477272727272727, 0.4642857142857143, 'X[28] <= 4.5\\ngini = 0.776\\nsamples = 7\\nvalue = [0, 0, 0, 0, 2, 2, 1, 1, 0, 1]'),\n",
       " Text(0.1590909090909091, 0.39285714285714285, 'gini = 0.0\\nsamples = 2\\nvalue = [0, 0, 0, 0, 2, 0, 0, 0, 0, 0]'),\n",
       " Text(0.17045454545454544, 0.39285714285714285, 'X[5] <= 0.5\\ngini = 0.72\\nsamples = 5\\nvalue = [0, 0, 0, 0, 0, 2, 1, 1, 0, 1]'),\n",
       " Text(0.16477272727272727, 0.32142857142857145, 'X[9] <= 2.5\\ngini = 0.667\\nsamples = 3\\nvalue = [0, 0, 0, 0, 0, 0, 1, 1, 0, 1]'),\n",
       " Text(0.1590909090909091, 0.25, 'X[58] <= 8.0\\ngini = 0.5\\nsamples = 2\\nvalue = [0, 0, 0, 0, 0, 0, 1, 1, 0, 0]'),\n",
       " Text(0.1534090909090909, 0.17857142857142858, 'gini = 0.0\\nsamples = 1\\nvalue = [0, 0, 0, 0, 0, 0, 1, 0, 0, 0]'),\n",
       " Text(0.16477272727272727, 0.17857142857142858, 'gini = 0.0\\nsamples = 1\\nvalue = [0, 0, 0, 0, 0, 0, 0, 1, 0, 0]'),\n",
       " Text(0.17045454545454544, 0.25, 'gini = 0.0\\nsamples = 1\\nvalue = [0, 0, 0, 0, 0, 0, 0, 0, 0, 1]'),\n",
       " Text(0.17613636363636365, 0.32142857142857145, 'gini = 0.0\\nsamples = 2\\nvalue = [0, 0, 0, 0, 0, 2, 0, 0, 0, 0]'),\n",
       " Text(0.1875, 0.4642857142857143, 'X[43] <= 10.0\\ngini = 0.292\\nsamples = 12\\nvalue = [0, 0, 0, 10, 0, 0, 0, 1, 1, 0]'),\n",
       " Text(0.18181818181818182, 0.39285714285714285, 'gini = 0.0\\nsamples = 10\\nvalue = [0, 0, 0, 10, 0, 0, 0, 0, 0, 0]'),\n",
       " Text(0.19318181818181818, 0.39285714285714285, 'X[19] <= 6.5\\ngini = 0.5\\nsamples = 2\\nvalue = [0, 0, 0, 0, 0, 0, 0, 1, 1, 0]'),\n",
       " Text(0.1875, 0.32142857142857145, 'gini = 0.0\\nsamples = 1\\nvalue = [0, 0, 0, 0, 0, 0, 0, 1, 0, 0]'),\n",
       " Text(0.19886363636363635, 0.32142857142857145, 'gini = 0.0\\nsamples = 1\\nvalue = [0, 0, 0, 0, 0, 0, 0, 0, 1, 0]'),\n",
       " Text(0.19886363636363635, 0.6071428571428571, 'X[46] <= 2.5\\ngini = 0.145\\nsamples = 26\\nvalue = [0, 24, 1, 0, 1, 0, 0, 0, 0, 0]'),\n",
       " Text(0.19318181818181818, 0.5357142857142857, 'gini = 0.0\\nsamples = 24\\nvalue = [0, 24, 0, 0, 0, 0, 0, 0, 0, 0]'),\n",
       " Text(0.20454545454545456, 0.5357142857142857, 'X[53] <= 6.5\\ngini = 0.5\\nsamples = 2\\nvalue = [0, 0, 1, 0, 1, 0, 0, 0, 0, 0]'),\n",
       " Text(0.19886363636363635, 0.4642857142857143, 'gini = 0.0\\nsamples = 1\\nvalue = [0, 0, 0, 0, 1, 0, 0, 0, 0, 0]'),\n",
       " Text(0.21022727272727273, 0.4642857142857143, 'gini = 0.0\\nsamples = 1\\nvalue = [0, 0, 1, 0, 0, 0, 0, 0, 0, 0]'),\n",
       " Text(0.23295454545454544, 0.6785714285714286, 'X[18] <= 4.5\\ngini = 0.069\\nsamples = 113\\nvalue = [0, 0, 0, 1, 2, 109, 0, 1, 0, 0]'),\n",
       " Text(0.2215909090909091, 0.6071428571428571, 'X[13] <= 3.5\\ngini = 0.667\\nsamples = 3\\nvalue = [0, 0, 0, 1, 1, 0, 0, 1, 0, 0]'),\n",
       " Text(0.2159090909090909, 0.5357142857142857, 'gini = 0.0\\nsamples = 1\\nvalue = [0, 0, 0, 0, 1, 0, 0, 0, 0, 0]'),\n",
       " Text(0.22727272727272727, 0.5357142857142857, 'X[30] <= 7.5\\ngini = 0.5\\nsamples = 2\\nvalue = [0, 0, 0, 1, 0, 0, 0, 1, 0, 0]'),\n",
       " Text(0.2215909090909091, 0.4642857142857143, 'gini = 0.0\\nsamples = 1\\nvalue = [0, 0, 0, 1, 0, 0, 0, 0, 0, 0]'),\n",
       " Text(0.23295454545454544, 0.4642857142857143, 'gini = 0.0\\nsamples = 1\\nvalue = [0, 0, 0, 0, 0, 0, 0, 1, 0, 0]'),\n",
       " Text(0.24431818181818182, 0.6071428571428571, 'X[24] <= 0.5\\ngini = 0.018\\nsamples = 110\\nvalue = [0, 0, 0, 0, 1, 109, 0, 0, 0, 0]'),\n",
       " Text(0.23863636363636365, 0.5357142857142857, 'gini = 0.0\\nsamples = 109\\nvalue = [0, 0, 0, 0, 0, 109, 0, 0, 0, 0]'),\n",
       " Text(0.25, 0.5357142857142857, 'gini = 0.0\\nsamples = 1\\nvalue = [0, 0, 0, 0, 1, 0, 0, 0, 0, 0]'),\n",
       " Text(0.31107954545454547, 0.75, 'X[54] <= 2.5\\ngini = 0.405\\nsamples = 179\\nvalue = [0, 7, 11, 1, 20, 3, 136, 1, 0, 0]'),\n",
       " Text(0.29261363636363635, 0.6785714285714286, 'X[38] <= 0.5\\ngini = 0.703\\nsamples = 42\\nvalue = [0, 7, 4, 0, 20, 3, 7, 1, 0, 0]'),\n",
       " Text(0.2727272727272727, 0.6071428571428571, 'X[53] <= 12.5\\ngini = 0.748\\nsamples = 22\\nvalue = [0, 7, 4, 0, 2, 2, 7, 0, 0, 0]'),\n",
       " Text(0.26136363636363635, 0.5357142857142857, 'X[34] <= 8.0\\ngini = 0.643\\nsamples = 14\\nvalue = [0, 7, 4, 0, 2, 1, 0, 0, 0, 0]'),\n",
       " Text(0.2556818181818182, 0.4642857142857143, 'gini = 0.0\\nsamples = 4\\nvalue = [0, 0, 4, 0, 0, 0, 0, 0, 0, 0]'),\n",
       " Text(0.26704545454545453, 0.4642857142857143, 'X[45] <= 5.5\\ngini = 0.46\\nsamples = 10\\nvalue = [0, 7, 0, 0, 2, 1, 0, 0, 0, 0]'),\n",
       " Text(0.26136363636363635, 0.39285714285714285, 'gini = 0.0\\nsamples = 7\\nvalue = [0, 7, 0, 0, 0, 0, 0, 0, 0, 0]'),\n",
       " Text(0.2727272727272727, 0.39285714285714285, 'X[44] <= 12.5\\ngini = 0.444\\nsamples = 3\\nvalue = [0, 0, 0, 0, 2, 1, 0, 0, 0, 0]'),\n",
       " Text(0.26704545454545453, 0.32142857142857145, 'gini = 0.0\\nsamples = 1\\nvalue = [0, 0, 0, 0, 0, 1, 0, 0, 0, 0]'),\n",
       " Text(0.2784090909090909, 0.32142857142857145, 'gini = 0.0\\nsamples = 2\\nvalue = [0, 0, 0, 0, 2, 0, 0, 0, 0, 0]'),\n",
       " Text(0.2840909090909091, 0.5357142857142857, 'X[2] <= 3.5\\ngini = 0.219\\nsamples = 8\\nvalue = [0, 0, 0, 0, 0, 1, 7, 0, 0, 0]'),\n",
       " Text(0.2784090909090909, 0.4642857142857143, 'gini = 0.0\\nsamples = 7\\nvalue = [0, 0, 0, 0, 0, 0, 7, 0, 0, 0]'),\n",
       " Text(0.2897727272727273, 0.4642857142857143, 'gini = 0.0\\nsamples = 1\\nvalue = [0, 0, 0, 0, 0, 1, 0, 0, 0, 0]'),\n",
       " Text(0.3125, 0.6071428571428571, 'X[44] <= 9.0\\ngini = 0.185\\nsamples = 20\\nvalue = [0, 0, 0, 0, 18, 1, 0, 1, 0, 0]'),\n",
       " Text(0.3068181818181818, 0.5357142857142857, 'X[59] <= 9.0\\ngini = 0.5\\nsamples = 2\\nvalue = [0, 0, 0, 0, 0, 1, 0, 1, 0, 0]'),\n",
       " Text(0.30113636363636365, 0.4642857142857143, 'gini = 0.0\\nsamples = 1\\nvalue = [0, 0, 0, 0, 0, 0, 0, 1, 0, 0]'),\n",
       " Text(0.3125, 0.4642857142857143, 'gini = 0.0\\nsamples = 1\\nvalue = [0, 0, 0, 0, 0, 1, 0, 0, 0, 0]'),\n",
       " Text(0.3181818181818182, 0.5357142857142857, 'gini = 0.0\\nsamples = 18\\nvalue = [0, 0, 0, 0, 18, 0, 0, 0, 0, 0]'),\n",
       " Text(0.32954545454545453, 0.6785714285714286, 'X[9] <= 3.0\\ngini = 0.111\\nsamples = 137\\nvalue = [0, 0, 7, 1, 0, 0, 129, 0, 0, 0]'),\n",
       " Text(0.32386363636363635, 0.6071428571428571, 'gini = 0.0\\nsamples = 129\\nvalue = [0, 0, 0, 0, 0, 0, 129, 0, 0, 0]'),\n",
       " Text(0.3352272727272727, 0.6071428571428571, 'X[29] <= 3.0\\ngini = 0.219\\nsamples = 8\\nvalue = [0, 0, 7, 1, 0, 0, 0, 0, 0, 0]'),\n",
       " Text(0.32954545454545453, 0.5357142857142857, 'gini = 0.0\\nsamples = 7\\nvalue = [0, 0, 7, 0, 0, 0, 0, 0, 0, 0]'),\n",
       " Text(0.3409090909090909, 0.5357142857142857, 'gini = 0.0\\nsamples = 1\\nvalue = [0, 0, 0, 1, 0, 0, 0, 0, 0, 0]'),\n",
       " Text(0.5914417613636364, 0.8214285714285714, 'X[60] <= 7.5\\ngini = 0.86\\nsamples = 860\\nvalue = [4, 114, 105, 133, 110, 10, 4, 148, 134, 98]'),\n",
       " Text(0.42613636363636365, 0.75, 'X[26] <= 12.5\\ngini = 0.556\\nsamples = 213\\nvalue = [0, 9, 5, 9, 25, 3, 0, 138, 10, 14]'),\n",
       " Text(0.38636363636363635, 0.6785714285714286, 'X[53] <= 1.5\\ngini = 0.326\\nsamples = 152\\nvalue = [0, 4, 5, 9, 1, 0, 0, 124, 9, 0]'),\n",
       " Text(0.36363636363636365, 0.6071428571428571, 'X[37] <= 0.5\\ngini = 0.143\\nsamples = 132\\nvalue = [0, 1, 0, 2, 1, 0, 0, 122, 6, 0]'),\n",
       " Text(0.3522727272727273, 0.5357142857142857, 'X[59] <= 13.5\\ngini = 0.617\\nsamples = 9\\nvalue = [0, 1, 0, 2, 0, 0, 0, 1, 5, 0]'),\n",
       " Text(0.3465909090909091, 0.4642857142857143, 'X[5] <= 8.5\\ngini = 0.625\\nsamples = 4\\nvalue = [0, 1, 0, 2, 0, 0, 0, 1, 0, 0]'),\n",
       " Text(0.3409090909090909, 0.39285714285714285, 'X[4] <= 12.5\\ngini = 0.5\\nsamples = 2\\nvalue = [0, 1, 0, 0, 0, 0, 0, 1, 0, 0]'),\n",
       " Text(0.3352272727272727, 0.32142857142857145, 'gini = 0.0\\nsamples = 1\\nvalue = [0, 1, 0, 0, 0, 0, 0, 0, 0, 0]'),\n",
       " Text(0.3465909090909091, 0.32142857142857145, 'gini = 0.0\\nsamples = 1\\nvalue = [0, 0, 0, 0, 0, 0, 0, 1, 0, 0]'),\n",
       " Text(0.3522727272727273, 0.39285714285714285, 'gini = 0.0\\nsamples = 2\\nvalue = [0, 0, 0, 2, 0, 0, 0, 0, 0, 0]'),\n",
       " Text(0.35795454545454547, 0.4642857142857143, 'gini = 0.0\\nsamples = 5\\nvalue = [0, 0, 0, 0, 0, 0, 0, 0, 5, 0]'),\n",
       " Text(0.375, 0.5357142857142857, 'X[19] <= 13.5\\ngini = 0.032\\nsamples = 123\\nvalue = [0, 0, 0, 0, 1, 0, 0, 121, 1, 0]'),\n",
       " Text(0.3693181818181818, 0.4642857142857143, 'X[4] <= 2.5\\ngini = 0.016\\nsamples = 122\\nvalue = [0, 0, 0, 0, 1, 0, 0, 121, 0, 0]'),\n",
       " Text(0.36363636363636365, 0.39285714285714285, 'gini = 0.0\\nsamples = 1\\nvalue = [0, 0, 0, 0, 1, 0, 0, 0, 0, 0]'),\n",
       " Text(0.375, 0.39285714285714285, 'gini = 0.0\\nsamples = 121\\nvalue = [0, 0, 0, 0, 0, 0, 0, 121, 0, 0]'),\n",
       " Text(0.3806818181818182, 0.4642857142857143, 'gini = 0.0\\nsamples = 1\\nvalue = [0, 0, 0, 0, 0, 0, 0, 0, 1, 0]'),\n",
       " Text(0.4090909090909091, 0.6071428571428571, 'X[4] <= 10.5\\ngini = 0.76\\nsamples = 20\\nvalue = [0, 3, 5, 7, 0, 0, 0, 2, 3, 0]'),\n",
       " Text(0.3977272727272727, 0.5357142857142857, 'X[51] <= 11.0\\ngini = 0.62\\nsamples = 10\\nvalue = [0, 2, 5, 0, 0, 0, 0, 0, 3, 0]'),\n",
       " Text(0.39204545454545453, 0.4642857142857143, 'X[26] <= 7.5\\ngini = 0.48\\nsamples = 5\\nvalue = [0, 2, 0, 0, 0, 0, 0, 0, 3, 0]'),\n",
       " Text(0.38636363636363635, 0.39285714285714285, 'gini = 0.0\\nsamples = 3\\nvalue = [0, 0, 0, 0, 0, 0, 0, 0, 3, 0]'),\n",
       " Text(0.3977272727272727, 0.39285714285714285, 'gini = 0.0\\nsamples = 2\\nvalue = [0, 2, 0, 0, 0, 0, 0, 0, 0, 0]'),\n",
       " Text(0.4034090909090909, 0.4642857142857143, 'gini = 0.0\\nsamples = 5\\nvalue = [0, 0, 5, 0, 0, 0, 0, 0, 0, 0]'),\n",
       " Text(0.42045454545454547, 0.5357142857142857, 'X[11] <= 11.0\\ngini = 0.46\\nsamples = 10\\nvalue = [0, 1, 0, 7, 0, 0, 0, 2, 0, 0]'),\n",
       " Text(0.4147727272727273, 0.4642857142857143, 'gini = 0.0\\nsamples = 7\\nvalue = [0, 0, 0, 7, 0, 0, 0, 0, 0, 0]'),\n",
       " Text(0.42613636363636365, 0.4642857142857143, 'X[27] <= 10.0\\ngini = 0.444\\nsamples = 3\\nvalue = [0, 1, 0, 0, 0, 0, 0, 2, 0, 0]'),\n",
       " Text(0.42045454545454547, 0.39285714285714285, 'gini = 0.0\\nsamples = 2\\nvalue = [0, 0, 0, 0, 0, 0, 0, 2, 0, 0]'),\n",
       " Text(0.4318181818181818, 0.39285714285714285, 'gini = 0.0\\nsamples = 1\\nvalue = [0, 1, 0, 0, 0, 0, 0, 0, 0, 0]'),\n",
       " Text(0.4659090909090909, 0.6785714285714286, 'X[5] <= 0.5\\ngini = 0.73\\nsamples = 61\\nvalue = [0, 5, 0, 0, 24, 3, 0, 14, 1, 14]'),\n",
       " Text(0.44886363636363635, 0.6071428571428571, 'X[12] <= 9.5\\ngini = 0.221\\nsamples = 25\\nvalue = [0, 1, 0, 0, 22, 1, 0, 0, 0, 1]'),\n",
       " Text(0.4431818181818182, 0.5357142857142857, 'gini = 0.0\\nsamples = 22\\nvalue = [0, 0, 0, 0, 22, 0, 0, 0, 0, 0]'),\n",
       " Text(0.45454545454545453, 0.5357142857142857, 'X[42] <= 1.5\\ngini = 0.667\\nsamples = 3\\nvalue = [0, 1, 0, 0, 0, 1, 0, 0, 0, 1]'),\n",
       " Text(0.44886363636363635, 0.4642857142857143, 'X[17] <= 8.0\\ngini = 0.5\\nsamples = 2\\nvalue = [0, 0, 0, 0, 0, 1, 0, 0, 0, 1]'),\n",
       " Text(0.4431818181818182, 0.39285714285714285, 'gini = 0.0\\nsamples = 1\\nvalue = [0, 0, 0, 0, 0, 1, 0, 0, 0, 0]'),\n",
       " Text(0.45454545454545453, 0.39285714285714285, 'gini = 0.0\\nsamples = 1\\nvalue = [0, 0, 0, 0, 0, 0, 0, 0, 0, 1]'),\n",
       " Text(0.4602272727272727, 0.4642857142857143, 'gini = 0.0\\nsamples = 1\\nvalue = [0, 1, 0, 0, 0, 0, 0, 0, 0, 0]'),\n",
       " Text(0.48295454545454547, 0.6071428571428571, 'X[27] <= 5.5\\ngini = 0.699\\nsamples = 36\\nvalue = [0, 4, 0, 0, 2, 2, 0, 14, 1, 13]'),\n",
       " Text(0.4772727272727273, 0.5357142857142857, 'gini = 0.0\\nsamples = 10\\nvalue = [0, 0, 0, 0, 0, 0, 0, 10, 0, 0]'),\n",
       " Text(0.48863636363636365, 0.5357142857142857, 'X[33] <= 0.5\\ngini = 0.689\\nsamples = 26\\nvalue = [0, 4, 0, 0, 2, 2, 0, 4, 1, 13]'),\n",
       " Text(0.4715909090909091, 0.4642857142857143, 'X[50] <= 6.0\\ngini = 0.328\\nsamples = 16\\nvalue = [0, 0, 0, 0, 0, 1, 0, 1, 1, 13]'),\n",
       " Text(0.4659090909090909, 0.39285714285714285, 'gini = 0.0\\nsamples = 13\\nvalue = [0, 0, 0, 0, 0, 0, 0, 0, 0, 13]'),\n",
       " Text(0.4772727272727273, 0.39285714285714285, 'X[17] <= 2.0\\ngini = 0.667\\nsamples = 3\\nvalue = [0, 0, 0, 0, 0, 1, 0, 1, 1, 0]'),\n",
       " Text(0.4715909090909091, 0.32142857142857145, 'gini = 0.0\\nsamples = 1\\nvalue = [0, 0, 0, 0, 0, 0, 0, 1, 0, 0]'),\n",
       " Text(0.48295454545454547, 0.32142857142857145, 'X[21] <= 10.0\\ngini = 0.5\\nsamples = 2\\nvalue = [0, 0, 0, 0, 0, 1, 0, 0, 1, 0]'),\n",
       " Text(0.4772727272727273, 0.25, 'gini = 0.0\\nsamples = 1\\nvalue = [0, 0, 0, 0, 0, 1, 0, 0, 0, 0]'),\n",
       " Text(0.48863636363636365, 0.25, 'gini = 0.0\\nsamples = 1\\nvalue = [0, 0, 0, 0, 0, 0, 0, 0, 1, 0]'),\n",
       " Text(0.5056818181818182, 0.4642857142857143, 'X[30] <= 2.0\\ngini = 0.7\\nsamples = 10\\nvalue = [0, 4, 0, 0, 2, 1, 0, 3, 0, 0]'),\n",
       " Text(0.5, 0.39285714285714285, 'gini = 0.0\\nsamples = 4\\nvalue = [0, 4, 0, 0, 0, 0, 0, 0, 0, 0]'),\n",
       " Text(0.5113636363636364, 0.39285714285714285, 'X[12] <= 8.5\\ngini = 0.611\\nsamples = 6\\nvalue = [0, 0, 0, 0, 2, 1, 0, 3, 0, 0]'),\n",
       " Text(0.5056818181818182, 0.32142857142857145, 'X[30] <= 8.0\\ngini = 0.444\\nsamples = 3\\nvalue = [0, 0, 0, 0, 2, 1, 0, 0, 0, 0]'),\n",
       " Text(0.5, 0.25, 'gini = 0.0\\nsamples = 1\\nvalue = [0, 0, 0, 0, 0, 1, 0, 0, 0, 0]'),\n",
       " Text(0.5113636363636364, 0.25, 'gini = 0.0\\nsamples = 2\\nvalue = [0, 0, 0, 0, 2, 0, 0, 0, 0, 0]'),\n",
       " Text(0.5170454545454546, 0.32142857142857145, 'gini = 0.0\\nsamples = 3\\nvalue = [0, 0, 0, 0, 0, 0, 0, 3, 0, 0]'),\n",
       " Text(0.7567471590909091, 0.75, 'X[43] <= 1.5\\ngini = 0.842\\nsamples = 647\\nvalue = [4, 105, 100, 124, 85, 7, 4, 10, 124, 84]'),\n",
       " Text(0.62109375, 0.6785714285714286, 'X[29] <= 12.5\\ngini = 0.659\\nsamples = 233\\nvalue = [0, 17, 4, 111, 4, 7, 1, 1, 13, 75]'),\n",
       " Text(0.5738636363636364, 0.6071428571428571, 'X[34] <= 5.5\\ngini = 0.346\\nsamples = 131\\nvalue = [0, 3, 2, 105, 0, 3, 0, 0, 11, 7]'),\n",
       " Text(0.5511363636363636, 0.5357142857142857, 'X[19] <= 11.0\\ngini = 0.165\\nsamples = 114\\nvalue = [0, 1, 2, 104, 0, 3, 0, 0, 0, 4]'),\n",
       " Text(0.5397727272727273, 0.4642857142857143, 'X[26] <= 10.0\\ngini = 0.072\\nsamples = 107\\nvalue = [0, 0, 1, 103, 0, 0, 0, 0, 0, 3]'),\n",
       " Text(0.5340909090909091, 0.39285714285714285, 'X[62] <= 14.5\\ngini = 0.038\\nsamples = 105\\nvalue = [0, 0, 1, 103, 0, 0, 0, 0, 0, 1]'),\n",
       " Text(0.5284090909090909, 0.32142857142857145, 'X[13] <= 3.5\\ngini = 0.019\\nsamples = 104\\nvalue = [0, 0, 0, 103, 0, 0, 0, 0, 0, 1]'),\n",
       " Text(0.5227272727272727, 0.25, 'X[9] <= 3.0\\ngini = 0.375\\nsamples = 4\\nvalue = [0, 0, 0, 3, 0, 0, 0, 0, 0, 1]'),\n",
       " Text(0.5170454545454546, 0.17857142857142858, 'gini = 0.0\\nsamples = 1\\nvalue = [0, 0, 0, 0, 0, 0, 0, 0, 0, 1]'),\n",
       " Text(0.5284090909090909, 0.17857142857142858, 'gini = 0.0\\nsamples = 3\\nvalue = [0, 0, 0, 3, 0, 0, 0, 0, 0, 0]'),\n",
       " Text(0.5340909090909091, 0.25, 'gini = 0.0\\nsamples = 100\\nvalue = [0, 0, 0, 100, 0, 0, 0, 0, 0, 0]'),\n",
       " Text(0.5397727272727273, 0.32142857142857145, 'gini = 0.0\\nsamples = 1\\nvalue = [0, 0, 1, 0, 0, 0, 0, 0, 0, 0]'),\n",
       " Text(0.5454545454545454, 0.39285714285714285, 'gini = 0.0\\nsamples = 2\\nvalue = [0, 0, 0, 0, 0, 0, 0, 0, 0, 2]'),\n",
       " Text(0.5625, 0.4642857142857143, 'X[3] <= 14.0\\ngini = 0.735\\nsamples = 7\\nvalue = [0, 1, 1, 1, 0, 3, 0, 0, 0, 1]'),\n",
       " Text(0.5568181818181818, 0.39285714285714285, 'gini = 0.0\\nsamples = 3\\nvalue = [0, 0, 0, 0, 0, 3, 0, 0, 0, 0]'),\n",
       " Text(0.5681818181818182, 0.39285714285714285, 'X[26] <= 1.5\\ngini = 0.75\\nsamples = 4\\nvalue = [0, 1, 1, 1, 0, 0, 0, 0, 0, 1]'),\n",
       " Text(0.5568181818181818, 0.32142857142857145, 'X[53] <= 13.0\\ngini = 0.5\\nsamples = 2\\nvalue = [0, 1, 1, 0, 0, 0, 0, 0, 0, 0]'),\n",
       " Text(0.5511363636363636, 0.25, 'gini = 0.0\\nsamples = 1\\nvalue = [0, 0, 1, 0, 0, 0, 0, 0, 0, 0]'),\n",
       " Text(0.5625, 0.25, 'gini = 0.0\\nsamples = 1\\nvalue = [0, 1, 0, 0, 0, 0, 0, 0, 0, 0]'),\n",
       " Text(0.5795454545454546, 0.32142857142857145, 'X[42] <= 5.0\\ngini = 0.5\\nsamples = 2\\nvalue = [0, 0, 0, 1, 0, 0, 0, 0, 0, 1]'),\n",
       " Text(0.5738636363636364, 0.25, 'gini = 0.0\\nsamples = 1\\nvalue = [0, 0, 0, 1, 0, 0, 0, 0, 0, 0]'),\n",
       " Text(0.5852272727272727, 0.25, 'gini = 0.0\\nsamples = 1\\nvalue = [0, 0, 0, 0, 0, 0, 0, 0, 0, 1]'),\n",
       " Text(0.5965909090909091, 0.5357142857142857, 'X[42] <= 3.5\\ngini = 0.533\\nsamples = 17\\nvalue = [0, 2, 0, 1, 0, 0, 0, 0, 11, 3]'),\n",
       " Text(0.5909090909090909, 0.4642857142857143, 'X[12] <= 14.5\\ngini = 0.611\\nsamples = 6\\nvalue = [0, 2, 0, 1, 0, 0, 0, 0, 0, 3]'),\n",
       " Text(0.5852272727272727, 0.39285714285714285, 'gini = 0.0\\nsamples = 3\\nvalue = [0, 0, 0, 0, 0, 0, 0, 0, 0, 3]'),\n",
       " Text(0.5965909090909091, 0.39285714285714285, 'X[46] <= 1.5\\ngini = 0.444\\nsamples = 3\\nvalue = [0, 2, 0, 1, 0, 0, 0, 0, 0, 0]'),\n",
       " Text(0.5909090909090909, 0.32142857142857145, 'gini = 0.0\\nsamples = 2\\nvalue = [0, 2, 0, 0, 0, 0, 0, 0, 0, 0]'),\n",
       " Text(0.6022727272727273, 0.32142857142857145, 'gini = 0.0\\nsamples = 1\\nvalue = [0, 0, 0, 1, 0, 0, 0, 0, 0, 0]'),\n",
       " Text(0.6022727272727273, 0.4642857142857143, 'gini = 0.0\\nsamples = 11\\nvalue = [0, 0, 0, 0, 0, 0, 0, 0, 11, 0]'),\n",
       " Text(0.6683238636363636, 0.6071428571428571, 'X[44] <= 7.5\\ngini = 0.529\\nsamples = 102\\nvalue = [0, 14, 2, 6, 4, 4, 1, 1, 2, 68]'),\n",
       " Text(0.6321022727272727, 0.5357142857142857, 'X[26] <= 1.5\\ngini = 0.304\\nsamples = 76\\nvalue = [0, 2, 0, 6, 0, 3, 1, 0, 1, 63]'),\n",
       " Text(0.6136363636363636, 0.4642857142857143, 'X[28] <= 10.5\\ngini = 0.245\\nsamples = 7\\nvalue = [0, 0, 0, 6, 0, 0, 0, 0, 0, 1]'),\n",
       " Text(0.6079545454545454, 0.39285714285714285, 'gini = 0.0\\nsamples = 1\\nvalue = [0, 0, 0, 0, 0, 0, 0, 0, 0, 1]'),\n",
       " Text(0.6193181818181818, 0.39285714285714285, 'gini = 0.0\\nsamples = 6\\nvalue = [0, 0, 0, 6, 0, 0, 0, 0, 0, 0]'),\n",
       " Text(0.6505681818181818, 0.4642857142857143, 'X[42] <= 7.5\\ngini = 0.189\\nsamples = 69\\nvalue = [0, 2, 0, 0, 0, 3, 1, 0, 1, 62]'),\n",
       " Text(0.6306818181818182, 0.39285714285714285, 'X[60] <= 8.5\\ngini = 0.116\\nsamples = 66\\nvalue = [0, 2, 0, 0, 0, 2, 0, 0, 0, 62]'),\n",
       " Text(0.6193181818181818, 0.32142857142857145, 'X[18] <= 11.5\\ngini = 0.444\\nsamples = 3\\nvalue = [0, 2, 0, 0, 0, 0, 0, 0, 0, 1]'),\n",
       " Text(0.6136363636363636, 0.25, 'gini = 0.0\\nsamples = 1\\nvalue = [0, 0, 0, 0, 0, 0, 0, 0, 0, 1]'),\n",
       " Text(0.625, 0.25, 'gini = 0.0\\nsamples = 2\\nvalue = [0, 2, 0, 0, 0, 0, 0, 0, 0, 0]'),\n",
       " Text(0.6420454545454546, 0.32142857142857145, 'X[13] <= 1.0\\ngini = 0.061\\nsamples = 63\\nvalue = [0, 0, 0, 0, 0, 2, 0, 0, 0, 61]'),\n",
       " Text(0.6363636363636364, 0.25, 'gini = 0.0\\nsamples = 1\\nvalue = [0, 0, 0, 0, 0, 1, 0, 0, 0, 0]'),\n",
       " Text(0.6477272727272727, 0.25, 'X[7] <= 1.0\\ngini = 0.032\\nsamples = 62\\nvalue = [0, 0, 0, 0, 0, 1, 0, 0, 0, 61]'),\n",
       " Text(0.6420454545454546, 0.17857142857142858, 'gini = 0.0\\nsamples = 61\\nvalue = [0, 0, 0, 0, 0, 0, 0, 0, 0, 61]'),\n",
       " Text(0.6534090909090909, 0.17857142857142858, 'gini = 0.0\\nsamples = 1\\nvalue = [0, 0, 0, 0, 0, 1, 0, 0, 0, 0]'),\n",
       " Text(0.6704545454545454, 0.39285714285714285, 'X[6] <= 5.5\\ngini = 0.667\\nsamples = 3\\nvalue = [0, 0, 0, 0, 0, 1, 1, 0, 1, 0]'),\n",
       " Text(0.6647727272727273, 0.32142857142857145, 'X[9] <= 1.0\\ngini = 0.5\\nsamples = 2\\nvalue = [0, 0, 0, 0, 0, 0, 1, 0, 1, 0]'),\n",
       " Text(0.6590909090909091, 0.25, 'gini = 0.0\\nsamples = 1\\nvalue = [0, 0, 0, 0, 0, 0, 1, 0, 0, 0]'),\n",
       " Text(0.6704545454545454, 0.25, 'gini = 0.0\\nsamples = 1\\nvalue = [0, 0, 0, 0, 0, 0, 0, 0, 1, 0]'),\n",
       " Text(0.6761363636363636, 0.32142857142857145, 'gini = 0.0\\nsamples = 1\\nvalue = [0, 0, 0, 0, 0, 1, 0, 0, 0, 0]'),\n",
       " Text(0.7045454545454546, 0.5357142857142857, 'X[12] <= 14.0\\ngini = 0.716\\nsamples = 26\\nvalue = [0, 12, 2, 0, 4, 1, 0, 1, 1, 5]'),\n",
       " Text(0.6988636363636364, 0.4642857142857143, 'X[22] <= 14.5\\ngini = 0.755\\nsamples = 14\\nvalue = [0, 0, 2, 0, 4, 1, 0, 1, 1, 5]'),\n",
       " Text(0.6931818181818182, 0.39285714285714285, 'X[51] <= 6.5\\ngini = 0.68\\nsamples = 10\\nvalue = [0, 0, 2, 0, 0, 1, 0, 1, 1, 5]'),\n",
       " Text(0.6875, 0.32142857142857145, 'gini = 0.0\\nsamples = 5\\nvalue = [0, 0, 0, 0, 0, 0, 0, 0, 0, 5]'),\n",
       " Text(0.6988636363636364, 0.32142857142857145, 'X[51] <= 10.5\\ngini = 0.72\\nsamples = 5\\nvalue = [0, 0, 2, 0, 0, 1, 0, 1, 1, 0]'),\n",
       " Text(0.6931818181818182, 0.25, 'X[5] <= 11.5\\ngini = 0.667\\nsamples = 3\\nvalue = [0, 0, 0, 0, 0, 1, 0, 1, 1, 0]'),\n",
       " Text(0.6875, 0.17857142857142858, 'gini = 0.0\\nsamples = 1\\nvalue = [0, 0, 0, 0, 0, 0, 0, 0, 1, 0]'),\n",
       " Text(0.6988636363636364, 0.17857142857142858, 'X[19] <= 3.5\\ngini = 0.5\\nsamples = 2\\nvalue = [0, 0, 0, 0, 0, 1, 0, 1, 0, 0]'),\n",
       " Text(0.6931818181818182, 0.10714285714285714, 'gini = 0.0\\nsamples = 1\\nvalue = [0, 0, 0, 0, 0, 0, 0, 1, 0, 0]'),\n",
       " Text(0.7045454545454546, 0.10714285714285714, 'gini = 0.0\\nsamples = 1\\nvalue = [0, 0, 0, 0, 0, 1, 0, 0, 0, 0]'),\n",
       " Text(0.7045454545454546, 0.25, 'gini = 0.0\\nsamples = 2\\nvalue = [0, 0, 2, 0, 0, 0, 0, 0, 0, 0]'),\n",
       " Text(0.7045454545454546, 0.39285714285714285, 'gini = 0.0\\nsamples = 4\\nvalue = [0, 0, 0, 0, 4, 0, 0, 0, 0, 0]'),\n",
       " Text(0.7102272727272727, 0.4642857142857143, 'gini = 0.0\\nsamples = 12\\nvalue = [0, 12, 0, 0, 0, 0, 0, 0, 0, 0]'),\n",
       " Text(0.8924005681818182, 0.6785714285714286, 'X[33] <= 3.5\\ngini = 0.789\\nsamples = 414\\nvalue = [4, 88, 96, 13, 81, 0, 3, 9, 111, 9]'),\n",
       " Text(0.8132102272727273, 0.6071428571428571, 'X[27] <= 6.5\\ngini = 0.731\\nsamples = 314\\nvalue = [2, 73, 95, 13, 4, 0, 1, 8, 109, 9]'),\n",
       " Text(0.75, 0.5357142857142857, 'X[34] <= 6.0\\ngini = 0.345\\nsamples = 92\\nvalue = [0, 1, 74, 1, 2, 0, 0, 5, 5, 4]'),\n",
       " Text(0.7272727272727273, 0.4642857142857143, 'X[61] <= 0.5\\ngini = 0.078\\nsamples = 75\\nvalue = [0, 1, 72, 1, 0, 0, 0, 1, 0, 0]'),\n",
       " Text(0.7159090909090909, 0.39285714285714285, 'X[9] <= 2.0\\ngini = 0.5\\nsamples = 2\\nvalue = [0, 0, 0, 1, 0, 0, 0, 1, 0, 0]'),\n",
       " Text(0.7102272727272727, 0.32142857142857145, 'gini = 0.0\\nsamples = 1\\nvalue = [0, 0, 0, 1, 0, 0, 0, 0, 0, 0]'),\n",
       " Text(0.7215909090909091, 0.32142857142857145, 'gini = 0.0\\nsamples = 1\\nvalue = [0, 0, 0, 0, 0, 0, 0, 1, 0, 0]'),\n",
       " Text(0.7386363636363636, 0.39285714285714285, 'X[50] <= 0.5\\ngini = 0.027\\nsamples = 73\\nvalue = [0, 1, 72, 0, 0, 0, 0, 0, 0, 0]'),\n",
       " Text(0.7329545454545454, 0.32142857142857145, 'X[25] <= 2.0\\ngini = 0.5\\nsamples = 2\\nvalue = [0, 1, 1, 0, 0, 0, 0, 0, 0, 0]'),\n",
       " Text(0.7272727272727273, 0.25, 'gini = 0.0\\nsamples = 1\\nvalue = [0, 1, 0, 0, 0, 0, 0, 0, 0, 0]'),\n",
       " Text(0.7386363636363636, 0.25, 'gini = 0.0\\nsamples = 1\\nvalue = [0, 0, 1, 0, 0, 0, 0, 0, 0, 0]'),\n",
       " Text(0.7443181818181818, 0.32142857142857145, 'gini = 0.0\\nsamples = 71\\nvalue = [0, 0, 71, 0, 0, 0, 0, 0, 0, 0]'),\n",
       " Text(0.7727272727272727, 0.4642857142857143, 'X[38] <= 0.5\\ngini = 0.775\\nsamples = 17\\nvalue = [0, 0, 2, 0, 2, 0, 0, 4, 5, 4]'),\n",
       " Text(0.7613636363636364, 0.39285714285714285, 'X[26] <= 4.5\\ngini = 0.408\\nsamples = 7\\nvalue = [0, 0, 2, 0, 0, 0, 0, 0, 5, 0]'),\n",
       " Text(0.7556818181818182, 0.32142857142857145, 'gini = 0.0\\nsamples = 2\\nvalue = [0, 0, 2, 0, 0, 0, 0, 0, 0, 0]'),\n",
       " Text(0.7670454545454546, 0.32142857142857145, 'gini = 0.0\\nsamples = 5\\nvalue = [0, 0, 0, 0, 0, 0, 0, 0, 5, 0]'),\n",
       " Text(0.7840909090909091, 0.39285714285714285, 'X[42] <= 6.0\\ngini = 0.64\\nsamples = 10\\nvalue = [0, 0, 0, 0, 2, 0, 0, 4, 0, 4]'),\n",
       " Text(0.7784090909090909, 0.32142857142857145, 'X[54] <= 2.0\\ngini = 0.444\\nsamples = 6\\nvalue = [0, 0, 0, 0, 2, 0, 0, 0, 0, 4]'),\n",
       " Text(0.7727272727272727, 0.25, 'gini = 0.0\\nsamples = 2\\nvalue = [0, 0, 0, 0, 2, 0, 0, 0, 0, 0]'),\n",
       " Text(0.7840909090909091, 0.25, 'gini = 0.0\\nsamples = 4\\nvalue = [0, 0, 0, 0, 0, 0, 0, 0, 0, 4]'),\n",
       " Text(0.7897727272727273, 0.32142857142857145, 'gini = 0.0\\nsamples = 4\\nvalue = [0, 0, 0, 0, 0, 0, 0, 4, 0, 0]'),\n",
       " Text(0.8764204545454546, 0.5357142857142857, 'X[20] <= 14.5\\ngini = 0.663\\nsamples = 222\\nvalue = [2, 72, 21, 12, 2, 0, 1, 3, 104, 5]'),\n",
       " Text(0.8394886363636364, 0.4642857142857143, 'X[38] <= 2.5\\ngini = 0.312\\nsamples = 115\\nvalue = [2, 2, 4, 3, 0, 0, 1, 3, 95, 5]'),\n",
       " Text(0.8153409090909091, 0.39285714285714285, 'X[21] <= 4.5\\ngini = 0.225\\nsamples = 107\\nvalue = [1, 2, 4, 3, 0, 0, 0, 0, 94, 3]'),\n",
       " Text(0.8011363636363636, 0.32142857142857145, 'X[36] <= 9.0\\ngini = 0.5\\nsamples = 4\\nvalue = [0, 2, 2, 0, 0, 0, 0, 0, 0, 0]'),\n",
       " Text(0.7954545454545454, 0.25, 'gini = 0.0\\nsamples = 2\\nvalue = [0, 0, 2, 0, 0, 0, 0, 0, 0, 0]'),\n",
       " Text(0.8068181818181818, 0.25, 'gini = 0.0\\nsamples = 2\\nvalue = [0, 2, 0, 0, 0, 0, 0, 0, 0, 0]'),\n",
       " Text(0.8295454545454546, 0.32142857142857145, 'X[50] <= 3.5\\ngini = 0.165\\nsamples = 103\\nvalue = [1, 0, 2, 3, 0, 0, 0, 0, 94, 3]'),\n",
       " Text(0.8181818181818182, 0.25, 'X[51] <= 9.5\\ngini = 0.539\\nsamples = 16\\nvalue = [0, 0, 0, 3, 0, 0, 0, 0, 10, 3]'),\n",
       " Text(0.8125, 0.17857142857142858, 'X[59] <= 13.0\\ngini = 0.5\\nsamples = 6\\nvalue = [0, 0, 0, 3, 0, 0, 0, 0, 0, 3]'),\n",
       " Text(0.8068181818181818, 0.10714285714285714, 'gini = 0.0\\nsamples = 3\\nvalue = [0, 0, 0, 0, 0, 0, 0, 0, 0, 3]'),\n",
       " Text(0.8181818181818182, 0.10714285714285714, 'gini = 0.0\\nsamples = 3\\nvalue = [0, 0, 0, 3, 0, 0, 0, 0, 0, 0]'),\n",
       " Text(0.8238636363636364, 0.17857142857142858, 'gini = 0.0\\nsamples = 10\\nvalue = [0, 0, 0, 0, 0, 0, 0, 0, 10, 0]'),\n",
       " Text(0.8409090909090909, 0.25, 'X[28] <= 2.0\\ngini = 0.067\\nsamples = 87\\nvalue = [1, 0, 2, 0, 0, 0, 0, 0, 84, 0]'),\n",
       " Text(0.8352272727272727, 0.17857142857142858, 'gini = 0.0\\nsamples = 1\\nvalue = [1, 0, 0, 0, 0, 0, 0, 0, 0, 0]'),\n",
       " Text(0.8465909090909091, 0.17857142857142858, 'X[3] <= 15.5\\ngini = 0.045\\nsamples = 86\\nvalue = [0, 0, 2, 0, 0, 0, 0, 0, 84, 0]'),\n",
       " Text(0.8409090909090909, 0.10714285714285714, 'gini = 0.0\\nsamples = 79\\nvalue = [0, 0, 0, 0, 0, 0, 0, 0, 79, 0]'),\n",
       " Text(0.8522727272727273, 0.10714285714285714, 'X[51] <= 12.5\\ngini = 0.408\\nsamples = 7\\nvalue = [0, 0, 2, 0, 0, 0, 0, 0, 5, 0]'),\n",
       " Text(0.8465909090909091, 0.03571428571428571, 'gini = 0.0\\nsamples = 5\\nvalue = [0, 0, 0, 0, 0, 0, 0, 0, 5, 0]'),\n",
       " Text(0.8579545454545454, 0.03571428571428571, 'gini = 0.0\\nsamples = 2\\nvalue = [0, 0, 2, 0, 0, 0, 0, 0, 0, 0]'),\n",
       " Text(0.8636363636363636, 0.39285714285714285, 'X[6] <= 2.5\\ngini = 0.75\\nsamples = 8\\nvalue = [1, 0, 0, 0, 0, 0, 1, 3, 1, 2]'),\n",
       " Text(0.8579545454545454, 0.32142857142857145, 'X[44] <= 0.5\\ngini = 0.72\\nsamples = 5\\nvalue = [1, 0, 0, 0, 0, 0, 1, 0, 1, 2]'),\n",
       " Text(0.8522727272727273, 0.25, 'gini = 0.0\\nsamples = 2\\nvalue = [0, 0, 0, 0, 0, 0, 0, 0, 0, 2]'),\n",
       " Text(0.8636363636363636, 0.25, 'X[45] <= 6.0\\ngini = 0.667\\nsamples = 3\\nvalue = [1, 0, 0, 0, 0, 0, 1, 0, 1, 0]'),\n",
       " Text(0.8579545454545454, 0.17857142857142858, 'gini = 0.0\\nsamples = 1\\nvalue = [0, 0, 0, 0, 0, 0, 1, 0, 0, 0]'),\n",
       " Text(0.8693181818181818, 0.17857142857142858, 'X[3] <= 13.0\\ngini = 0.5\\nsamples = 2\\nvalue = [1, 0, 0, 0, 0, 0, 0, 0, 1, 0]'),\n",
       " Text(0.8636363636363636, 0.10714285714285714, 'gini = 0.0\\nsamples = 1\\nvalue = [0, 0, 0, 0, 0, 0, 0, 0, 1, 0]'),\n",
       " Text(0.875, 0.10714285714285714, 'gini = 0.0\\nsamples = 1\\nvalue = [1, 0, 0, 0, 0, 0, 0, 0, 0, 0]'),\n",
       " Text(0.8693181818181818, 0.32142857142857145, 'gini = 0.0\\nsamples = 3\\nvalue = [0, 0, 0, 0, 0, 0, 0, 3, 0, 0]'),\n",
       " Text(0.9133522727272727, 0.4642857142857143, 'X[10] <= 13.5\\ngini = 0.532\\nsamples = 107\\nvalue = [0, 70, 17, 9, 2, 0, 0, 0, 9, 0]'),\n",
       " Text(0.8948863636363636, 0.39285714285714285, 'X[19] <= 6.5\\ngini = 0.265\\nsamples = 82\\nvalue = [0, 70, 2, 4, 2, 0, 0, 0, 4, 0]'),\n",
       " Text(0.8806818181818182, 0.32142857142857145, 'X[62] <= 1.5\\ngini = 0.48\\nsamples = 5\\nvalue = [0, 0, 2, 3, 0, 0, 0, 0, 0, 0]'),\n",
       " Text(0.875, 0.25, 'gini = 0.0\\nsamples = 3\\nvalue = [0, 0, 0, 3, 0, 0, 0, 0, 0, 0]'),\n",
       " Text(0.8863636363636364, 0.25, 'gini = 0.0\\nsamples = 2\\nvalue = [0, 0, 2, 0, 0, 0, 0, 0, 0, 0]'),\n",
       " Text(0.9090909090909091, 0.32142857142857145, 'X[28] <= 8.0\\ngini = 0.17\\nsamples = 77\\nvalue = [0, 70, 0, 1, 2, 0, 0, 0, 4, 0]'),\n",
       " Text(0.8977272727272727, 0.25, 'X[10] <= 10.0\\ngini = 0.444\\nsamples = 3\\nvalue = [0, 0, 0, 1, 0, 0, 0, 0, 2, 0]'),\n",
       " Text(0.8920454545454546, 0.17857142857142858, 'gini = 0.0\\nsamples = 2\\nvalue = [0, 0, 0, 0, 0, 0, 0, 0, 2, 0]'),\n",
       " Text(0.9034090909090909, 0.17857142857142858, 'gini = 0.0\\nsamples = 1\\nvalue = [0, 0, 0, 1, 0, 0, 0, 0, 0, 0]'),\n",
       " Text(0.9204545454545454, 0.25, 'X[41] <= 7.5\\ngini = 0.104\\nsamples = 74\\nvalue = [0, 70, 0, 0, 2, 0, 0, 0, 2, 0]'),\n",
       " Text(0.9147727272727273, 0.17857142857142858, 'X[52] <= 9.0\\ngini = 0.054\\nsamples = 72\\nvalue = [0, 70, 0, 0, 0, 0, 0, 0, 2, 0]'),\n",
       " Text(0.9090909090909091, 0.10714285714285714, 'X[10] <= 4.5\\ngini = 0.48\\nsamples = 5\\nvalue = [0, 3, 0, 0, 0, 0, 0, 0, 2, 0]'),\n",
       " Text(0.9034090909090909, 0.03571428571428571, 'gini = 0.0\\nsamples = 3\\nvalue = [0, 3, 0, 0, 0, 0, 0, 0, 0, 0]'),\n",
       " Text(0.9147727272727273, 0.03571428571428571, 'gini = 0.0\\nsamples = 2\\nvalue = [0, 0, 0, 0, 0, 0, 0, 0, 2, 0]'),\n",
       " Text(0.9204545454545454, 0.10714285714285714, 'gini = 0.0\\nsamples = 67\\nvalue = [0, 67, 0, 0, 0, 0, 0, 0, 0, 0]'),\n",
       " Text(0.9261363636363636, 0.17857142857142858, 'gini = 0.0\\nsamples = 2\\nvalue = [0, 0, 0, 0, 2, 0, 0, 0, 0, 0]'),\n",
       " Text(0.9318181818181818, 0.39285714285714285, 'X[42] <= 2.0\\ngini = 0.56\\nsamples = 25\\nvalue = [0, 0, 15, 5, 0, 0, 0, 0, 5, 0]'),\n",
       " Text(0.9261363636363636, 0.32142857142857145, 'gini = 0.0\\nsamples = 5\\nvalue = [0, 0, 0, 5, 0, 0, 0, 0, 0, 0]'),\n",
       " Text(0.9375, 0.32142857142857145, 'X[27] <= 13.5\\ngini = 0.375\\nsamples = 20\\nvalue = [0, 0, 15, 0, 0, 0, 0, 0, 5, 0]'),\n",
       " Text(0.9318181818181818, 0.25, 'gini = 0.0\\nsamples = 15\\nvalue = [0, 0, 15, 0, 0, 0, 0, 0, 0, 0]'),\n",
       " Text(0.9431818181818182, 0.25, 'gini = 0.0\\nsamples = 5\\nvalue = [0, 0, 0, 0, 0, 0, 0, 0, 5, 0]'),\n",
       " Text(0.9715909090909091, 0.6071428571428571, 'X[27] <= 15.5\\ngini = 0.383\\nsamples = 100\\nvalue = [2, 15, 1, 0, 77, 0, 2, 1, 2, 0]'),\n",
       " Text(0.9545454545454546, 0.5357142857142857, 'X[13] <= 12.5\\ngini = 0.184\\nsamples = 82\\nvalue = [2, 1, 1, 0, 74, 0, 2, 1, 1, 0]'),\n",
       " Text(0.9488636363636364, 0.4642857142857143, 'gini = 0.0\\nsamples = 71\\nvalue = [0, 0, 0, 0, 71, 0, 0, 0, 0, 0]'),\n",
       " Text(0.9602272727272727, 0.4642857142857143, 'X[38] <= 7.0\\ngini = 0.826\\nsamples = 11\\nvalue = [2, 1, 1, 0, 3, 0, 2, 1, 1, 0]'),\n",
       " Text(0.9545454545454546, 0.39285714285714285, 'X[21] <= 9.5\\ngini = 0.812\\nsamples = 8\\nvalue = [2, 1, 1, 0, 0, 0, 2, 1, 1, 0]'),\n",
       " Text(0.9488636363636364, 0.32142857142857145, 'gini = 0.0\\nsamples = 2\\nvalue = [0, 0, 0, 0, 0, 0, 2, 0, 0, 0]'),\n",
       " Text(0.9602272727272727, 0.32142857142857145, 'X[36] <= 8.0\\ngini = 0.778\\nsamples = 6\\nvalue = [2, 1, 1, 0, 0, 0, 0, 1, 1, 0]'),\n",
       " Text(0.9545454545454546, 0.25, 'gini = 0.0\\nsamples = 2\\nvalue = [2, 0, 0, 0, 0, 0, 0, 0, 0, 0]'),\n",
       " Text(0.9659090909090909, 0.25, 'X[53] <= 2.0\\ngini = 0.75\\nsamples = 4\\nvalue = [0, 1, 1, 0, 0, 0, 0, 1, 1, 0]'),\n",
       " Text(0.9602272727272727, 0.17857142857142858, 'gini = 0.0\\nsamples = 1\\nvalue = [0, 0, 0, 0, 0, 0, 0, 0, 1, 0]'),\n",
       " Text(0.9715909090909091, 0.17857142857142858, 'X[22] <= 4.0\\ngini = 0.667\\nsamples = 3\\nvalue = [0, 1, 1, 0, 0, 0, 0, 1, 0, 0]'),\n",
       " Text(0.9659090909090909, 0.10714285714285714, 'gini = 0.0\\nsamples = 1\\nvalue = [0, 1, 0, 0, 0, 0, 0, 0, 0, 0]'),\n",
       " Text(0.9772727272727273, 0.10714285714285714, 'X[59] <= 6.0\\ngini = 0.5\\nsamples = 2\\nvalue = [0, 0, 1, 0, 0, 0, 0, 1, 0, 0]'),\n",
       " Text(0.9715909090909091, 0.03571428571428571, 'gini = 0.0\\nsamples = 1\\nvalue = [0, 0, 1, 0, 0, 0, 0, 0, 0, 0]'),\n",
       " Text(0.9829545454545454, 0.03571428571428571, 'gini = 0.0\\nsamples = 1\\nvalue = [0, 0, 0, 0, 0, 0, 0, 1, 0, 0]'),\n",
       " Text(0.9659090909090909, 0.39285714285714285, 'gini = 0.0\\nsamples = 3\\nvalue = [0, 0, 0, 0, 3, 0, 0, 0, 0, 0]'),\n",
       " Text(0.9886363636363636, 0.5357142857142857, 'X[38] <= 6.0\\ngini = 0.364\\nsamples = 18\\nvalue = [0, 14, 0, 0, 3, 0, 0, 0, 1, 0]'),\n",
       " Text(0.9829545454545454, 0.4642857142857143, 'X[58] <= 9.5\\ngini = 0.124\\nsamples = 15\\nvalue = [0, 14, 0, 0, 0, 0, 0, 0, 1, 0]'),\n",
       " Text(0.9772727272727273, 0.39285714285714285, 'gini = 0.0\\nsamples = 14\\nvalue = [0, 14, 0, 0, 0, 0, 0, 0, 0, 0]'),\n",
       " Text(0.9886363636363636, 0.39285714285714285, 'gini = 0.0\\nsamples = 1\\nvalue = [0, 0, 0, 0, 0, 0, 0, 0, 1, 0]'),\n",
       " Text(0.9943181818181818, 0.4642857142857143, 'gini = 0.0\\nsamples = 3\\nvalue = [0, 0, 0, 0, 3, 0, 0, 0, 0, 0]')]"
      ]
     },
     "execution_count": 21,
     "metadata": {},
     "output_type": "execute_result"
    },
    {
     "data": {
      "image/png": "[encoded data removed]",
      "text/plain": [
       "<Figure size 1080x720 with 1 Axes>"
      ]
     },
     "metadata": {
      "needs_background": "light"
     },
     "output_type": "display_data"
    }
   ],
   "source": [
    "from sklearn import tree\n",
    "plt.figure(figsize=(15,10))\n",
    "tree.plot_tree(ds,filled=True)"
   ]
  },
  {
   "cell_type": "code",
   "execution_count": 23,
   "metadata": {},
   "outputs": [],
   "source": [
    "path=ds.cost_complexity_pruning_path(X_train,y_train)\n",
    "ccp_alphas, impurities = path.ccp_alphas, path.impurities"
   ]
  },
  {
   "cell_type": "code",
   "execution_count": 25,
   "metadata": {},
   "outputs": [
    {
     "name": "stdout",
     "output_type": "stream",
     "text": [
      "[DecisionTreeClassifier(random_state=0), DecisionTreeClassifier(ccp_alpha=0.0006863614264878301, random_state=0), DecisionTreeClassifier(ccp_alpha=0.0006892029334618074, random_state=0), DecisionTreeClassifier(ccp_alpha=0.0006958942240779401, random_state=0), DecisionTreeClassifier(ccp_alpha=0.0006958942240779401, random_state=0), DecisionTreeClassifier(ccp_alpha=0.0006958942240779402, random_state=0), DecisionTreeClassifier(ccp_alpha=0.0006958942240779402, random_state=0), DecisionTreeClassifier(ccp_alpha=0.0006958942240779402, random_state=0), DecisionTreeClassifier(ccp_alpha=0.0006958942240779402, random_state=0), DecisionTreeClassifier(ccp_alpha=0.0006958942240779402, random_state=0), DecisionTreeClassifier(ccp_alpha=0.0006958942240779402, random_state=0), DecisionTreeClassifier(ccp_alpha=0.0006958942240779402, random_state=0), DecisionTreeClassifier(ccp_alpha=0.0006958942240779402, random_state=0), DecisionTreeClassifier(ccp_alpha=0.0006958942240779402, random_state=0), DecisionTreeClassifier(ccp_alpha=0.0006958942240779402, random_state=0), DecisionTreeClassifier(ccp_alpha=0.0006958942240779402, random_state=0), DecisionTreeClassifier(ccp_alpha=0.0006958942240779402, random_state=0), DecisionTreeClassifier(ccp_alpha=0.0006958942240779402, random_state=0), DecisionTreeClassifier(ccp_alpha=0.0009278589654372535, random_state=0), DecisionTreeClassifier(ccp_alpha=0.0009278589654372535, random_state=0), DecisionTreeClassifier(ccp_alpha=0.0009278589654372535, random_state=0), DecisionTreeClassifier(ccp_alpha=0.0009278589654372535, random_state=0), DecisionTreeClassifier(ccp_alpha=0.0009278589654372535, random_state=0), DecisionTreeClassifier(ccp_alpha=0.0009278589654372535, random_state=0), DecisionTreeClassifier(ccp_alpha=0.0009278589654372535, random_state=0), DecisionTreeClassifier(ccp_alpha=0.0009278589654372535, random_state=0), DecisionTreeClassifier(ccp_alpha=0.0010438413361169101, random_state=0), DecisionTreeClassifier(ccp_alpha=0.001113430758524704, random_state=0), DecisionTreeClassifier(ccp_alpha=0.001113430758524704, random_state=0), DecisionTreeClassifier(ccp_alpha=0.001113430758524704, random_state=0), DecisionTreeClassifier(ccp_alpha=0.0011598237067965674, random_state=0), DecisionTreeClassifier(ccp_alpha=0.0011929615269907548, random_state=0), DecisionTreeClassifier(ccp_alpha=0.0012178148921363954, random_state=0), DecisionTreeClassifier(ccp_alpha=0.0012178148921363954, random_state=0), DecisionTreeClassifier(ccp_alpha=0.0012526096033402922, random_state=0), DecisionTreeClassifier(ccp_alpha=0.001272492295456805, random_state=0), DecisionTreeClassifier(ccp_alpha=0.0012758060774762233, random_state=0), DecisionTreeClassifier(ccp_alpha=0.001284727798297735, random_state=0), DecisionTreeClassifier(ccp_alpha=0.0012990025516121553, random_state=0), DecisionTreeClassifier(ccp_alpha=0.0013476046878969623, random_state=0), DecisionTreeClassifier(ccp_alpha=0.0013531276579293286, random_state=0), DecisionTreeClassifier(ccp_alpha=0.001354460788626795, random_state=0), DecisionTreeClassifier(ccp_alpha=0.001359421274942954, random_state=0), DecisionTreeClassifier(ccp_alpha=0.001365405645155121, random_state=0), DecisionTreeClassifier(ccp_alpha=0.0013748154183003216, random_state=0), DecisionTreeClassifier(ccp_alpha=0.001379135825899922, random_state=0), DecisionTreeClassifier(ccp_alpha=0.0013814019671994893, random_state=0), DecisionTreeClassifier(ccp_alpha=0.0013917884481558804, random_state=0), DecisionTreeClassifier(ccp_alpha=0.0013917884481558804, random_state=0), DecisionTreeClassifier(ccp_alpha=0.0014912019087384432, random_state=0), DecisionTreeClassifier(ccp_alpha=0.001623753189515194, random_state=0), DecisionTreeClassifier(ccp_alpha=0.001623753189515194, random_state=0), DecisionTreeClassifier(ccp_alpha=0.001623753189515194, random_state=0), DecisionTreeClassifier(ccp_alpha=0.001670146137787056, random_state=0), DecisionTreeClassifier(ccp_alpha=0.0016701461377870562, random_state=0), DecisionTreeClassifier(ccp_alpha=0.0016701461377870562, random_state=0), DecisionTreeClassifier(ccp_alpha=0.0016910330062730903, random_state=0), DecisionTreeClassifier(ccp_alpha=0.0017397355601948502, random_state=0), DecisionTreeClassifier(ccp_alpha=0.0018029986714746633, random_state=0), DecisionTreeClassifier(ccp_alpha=0.001855717930874507, random_state=0), DecisionTreeClassifier(ccp_alpha=0.0018789144050104394, random_state=0), DecisionTreeClassifier(ccp_alpha=0.0019270916974466028, random_state=0), DecisionTreeClassifier(ccp_alpha=0.0019882692116512577, random_state=0), DecisionTreeClassifier(ccp_alpha=0.0019954051915615683, random_state=0), DecisionTreeClassifier(ccp_alpha=0.0020876826722338203, random_state=0), DecisionTreeClassifier(ccp_alpha=0.0021263434624603735, random_state=0), DecisionTreeClassifier(ccp_alpha=0.0022268615170494077, random_state=0), DecisionTreeClassifier(ccp_alpha=0.002226861517049409, random_state=0), DecisionTreeClassifier(ccp_alpha=0.002261656228253305, random_state=0), DecisionTreeClassifier(ccp_alpha=0.002273254465321271, random_state=0), DecisionTreeClassifier(ccp_alpha=0.002273254465321271, random_state=0), DecisionTreeClassifier(ccp_alpha=0.002319647413593134, random_state=0), DecisionTreeClassifier(ccp_alpha=0.0023911622350398813, random_state=0), DecisionTreeClassifier(ccp_alpha=0.0024495476687543486, random_state=0), DecisionTreeClassifier(ccp_alpha=0.002569455596595472, random_state=0), DecisionTreeClassifier(ccp_alpha=0.00259800510322431, random_state=0), DecisionTreeClassifier(ccp_alpha=0.0026245153593796606, random_state=0), DecisionTreeClassifier(ccp_alpha=0.0026352030527395888, random_state=0), DecisionTreeClassifier(ccp_alpha=0.002644398051496173, random_state=0), DecisionTreeClassifier(ccp_alpha=0.0026542464877781875, random_state=0), DecisionTreeClassifier(ccp_alpha=0.0026607456873313073, random_state=0), DecisionTreeClassifier(ccp_alpha=0.002727437530335724, random_state=0), DecisionTreeClassifier(ccp_alpha=0.0027966576148094665, random_state=0), DecisionTreeClassifier(ccp_alpha=0.002836190258304041, random_state=0), DecisionTreeClassifier(ccp_alpha=0.0028405706902575366, random_state=0), DecisionTreeClassifier(ccp_alpha=0.0028866723369159004, random_state=0), DecisionTreeClassifier(ccp_alpha=0.002890637546169906, random_state=0), DecisionTreeClassifier(ccp_alpha=0.003061934585942936, random_state=0), DecisionTreeClassifier(ccp_alpha=0.003061934585942937, random_state=0), DecisionTreeClassifier(ccp_alpha=0.0032629706951210068, random_state=0), DecisionTreeClassifier(ccp_alpha=0.003525249481015456, random_state=0), DecisionTreeClassifier(ccp_alpha=0.0037523708161065396, random_state=0), DecisionTreeClassifier(ccp_alpha=0.003947861463519088, random_state=0), DecisionTreeClassifier(ccp_alpha=0.003969760232808251, random_state=0), DecisionTreeClassifier(ccp_alpha=0.0040879332054652405, random_state=0), DecisionTreeClassifier(ccp_alpha=0.004147378311868805, random_state=0), DecisionTreeClassifier(ccp_alpha=0.0041630213227545065, random_state=0), DecisionTreeClassifier(ccp_alpha=0.004359908469078995, random_state=0), DecisionTreeClassifier(ccp_alpha=0.0048712595685455815, random_state=0), DecisionTreeClassifier(ccp_alpha=0.0049225626390123275, random_state=0), DecisionTreeClassifier(ccp_alpha=0.0050407722641543085, random_state=0), DecisionTreeClassifier(ccp_alpha=0.005597742549725849, random_state=0), DecisionTreeClassifier(ccp_alpha=0.005788805619688992, random_state=0), DecisionTreeClassifier(ccp_alpha=0.006520016749661843, random_state=0), DecisionTreeClassifier(ccp_alpha=0.006553561138825156, random_state=0), DecisionTreeClassifier(ccp_alpha=0.008531485305207646, random_state=0), DecisionTreeClassifier(ccp_alpha=0.008627165660395009, random_state=0), DecisionTreeClassifier(ccp_alpha=0.008823369231508529, random_state=0), DecisionTreeClassifier(ccp_alpha=0.008925552568803657, random_state=0), DecisionTreeClassifier(ccp_alpha=0.00933742742635966, random_state=0), DecisionTreeClassifier(ccp_alpha=0.009652547239049167, random_state=0), DecisionTreeClassifier(ccp_alpha=0.010018811092476466, random_state=0), DecisionTreeClassifier(ccp_alpha=0.010699900887792328, random_state=0), DecisionTreeClassifier(ccp_alpha=0.011615360969197725, random_state=0), DecisionTreeClassifier(ccp_alpha=0.012147232532573375, random_state=0), DecisionTreeClassifier(ccp_alpha=0.012266461027466743, random_state=0), DecisionTreeClassifier(ccp_alpha=0.014750990582506451, random_state=0), DecisionTreeClassifier(ccp_alpha=0.01690329908921033, random_state=0), DecisionTreeClassifier(ccp_alpha=0.019299156764160212, random_state=0), DecisionTreeClassifier(ccp_alpha=0.035121618191065976, random_state=0), DecisionTreeClassifier(ccp_alpha=0.03646583424514142, random_state=0), DecisionTreeClassifier(ccp_alpha=0.037788597357081136, random_state=0), DecisionTreeClassifier(ccp_alpha=0.039115174982571436, random_state=0), DecisionTreeClassifier(ccp_alpha=0.04096245774962334, random_state=0), DecisionTreeClassifier(ccp_alpha=0.04481521187190485, random_state=0), DecisionTreeClassifier(ccp_alpha=0.0534389130578683, random_state=0), DecisionTreeClassifier(ccp_alpha=0.057251744185799314, random_state=0), DecisionTreeClassifier(ccp_alpha=0.06274799802811915, random_state=0)]\n",
      "Number of nodes in the last tree is: 1 with ccp_alpha: 0.06274799802811915\n"
     ]
    }
   ],
   "source": [
    "clfs = []\n",
    "for ccp_alpha in ccp_alphas:\n",
    "    clf = DecisionTreeClassifier(random_state=0, ccp_alpha=ccp_alpha)\n",
    "    clf.fit(X_train, y_train)\n",
    "    clfs.append(clf)\n",
    "print(clfs)\n",
    "print(\"Number of nodes in the last tree is: {} with ccp_alpha: {}\".format(\n",
    "      clfs[-1].tree_.node_count, ccp_alphas[-1]))"
   ]
  },
  {
   "cell_type": "code",
   "execution_count": 27,
   "metadata": {},
   "outputs": [
    {
     "data": {
      "image/png": "[encoded data removed]",
      "text/plain": [
       "<Figure size 432x288 with 1 Axes>"
      ]
     },
     "metadata": {
      "needs_background": "light"
     },
     "output_type": "display_data"
    }
   ],
   "source": [
    "train_scores = [clf.score(X_train, y_train) for clf in clfs]\n",
    "test_scores = [clf.score(X_test, y_test) for clf in clfs]\n",
    "\n",
    "fig, ax = plt.subplots()\n",
    "ax.set_xlabel(\"alpha\")\n",
    "ax.set_ylabel(\"accuracy\")\n",
    "ax.set_title(\"Accuracy vs alpha for training and testing sets\")\n",
    "ax.plot(ccp_alphas, train_scores, marker='o', label=\"train\",\n",
    "        drawstyle=\"steps-post\")\n",
    "ax.plot(ccp_alphas, test_scores, marker='o', label=\"test\",\n",
    "        drawstyle=\"steps-post\")\n",
    "ax.legend()\n",
    "plt.show()"
   ]
  },
  {
   "cell_type": "code",
   "execution_count": 28,
   "metadata": {},
   "outputs": [
    {
     "data": {
      "text/plain": [
       "DecisionTreeClassifier(ccp_alpha=0.003, random_state=0)"
      ]
     },
     "execution_count": 28,
     "metadata": {},
     "output_type": "execute_result"
    }
   ],
   "source": [
    "clf = DecisionTreeClassifier(random_state=0, ccp_alpha=0.003)\n",
    "clf.fit(X_train,y_train)"
   ]
  },
  {
   "cell_type": "code",
   "execution_count": 17,
   "metadata": {},
   "outputs": [],
   "source": [
    "model=LogisticRegression()\n",
    "\n"
   ]
  },
  {
   "cell_type": "code",
   "execution_count": 18,
   "metadata": {},
   "outputs": [
    {
     "name": "stderr",
     "output_type": "stream",
     "text": [
      "C:\\Users\\TEJKIRAN\\anaconda3\\envs\\TejEnv\\lib\\site-packages\\sklearn\\linear_model\\_logistic.py:818: ConvergenceWarning: lbfgs failed to converge (status=1):\n",
      "STOP: TOTAL NO. of ITERATIONS REACHED LIMIT.\n",
      "\n",
      "Increase the number of iterations (max_iter) or scale the data as shown in:\n",
      "    https://scikit-learn.org/stable/modules/preprocessing.html\n",
      "Please also refer to the documentation for alternative solver options:\n",
      "    https://scikit-learn.org/stable/modules/linear_model.html#logistic-regression\n",
      "  extra_warning_msg=_LOGISTIC_SOLVER_CONVERGENCE_MSG,\n"
     ]
    },
    {
     "data": {
      "text/plain": [
       "LogisticRegression()"
      ]
     },
     "execution_count": 18,
     "metadata": {},
     "output_type": "execute_result"
    }
   ],
   "source": [
    "model.fit(X_train,y_train)"
   ]
  },
  {
   "cell_type": "code",
   "execution_count": 19,
   "metadata": {},
   "outputs": [
    {
     "data": {
      "text/plain": [
       "array([8])"
      ]
     },
     "execution_count": 19,
     "metadata": {},
     "output_type": "execute_result"
    }
   ],
   "source": [
    "model.predict([df.data[76]])"
   ]
  },
  {
   "cell_type": "code",
   "execution_count": 20,
   "metadata": {},
   "outputs": [
    {
     "data": {
      "text/plain": [
       "0.9527777777777777"
      ]
     },
     "execution_count": 20,
     "metadata": {},
     "output_type": "execute_result"
    }
   ],
   "source": [
    "model.score(X_test,y_test)"
   ]
  },
  {
   "cell_type": "code",
   "execution_count": 21,
   "metadata": {},
   "outputs": [
    {
     "data": {
      "text/plain": [
       "<matplotlib.image.AxesImage at 0x25ad6dfa888>"
      ]
     },
     "execution_count": 21,
     "metadata": {},
     "output_type": "execute_result"
    },
    {
     "data": {
      "image/png": "[encoded data removed]",
      "text/plain": [
       "<Figure size 288x288 with 1 Axes>"
      ]
     },
     "metadata": {
      "needs_background": "light"
     },
     "output_type": "display_data"
    }
   ],
   "source": [
    "plt.matshow(df.images[76])"
   ]
  },
  {
   "cell_type": "code",
   "execution_count": 23,
   "metadata": {},
   "outputs": [
    {
     "data": {
      "text/plain": [
       "8"
      ]
     },
     "execution_count": 23,
     "metadata": {},
     "output_type": "execute_result"
    }
   ],
   "source": [
    "df.target[76]"
   ]
  },
  {
   "cell_type": "code",
   "execution_count": 24,
   "metadata": {},
   "outputs": [
    {
     "data": {
      "text/plain": [
       "array([0, 1, 2, 3, 4])"
      ]
     },
     "execution_count": 24,
     "metadata": {},
     "output_type": "execute_result"
    }
   ],
   "source": [
    "model.predict(df.data[0:5])"
   ]
  },
  {
   "cell_type": "code",
   "execution_count": 25,
   "metadata": {},
   "outputs": [
    {
     "data": {
      "text/plain": [
       "array([[39,  0,  1,  0,  0,  0,  0,  0,  0,  0],\n",
       "       [ 0, 45,  0,  0,  0,  0,  1,  0,  2,  0],\n",
       "       [ 0,  0, 33,  0,  0,  0,  0,  0,  0,  0],\n",
       "       [ 0,  0,  0, 38,  0,  1,  0,  0,  0,  0],\n",
       "       [ 0,  0,  0,  0, 27,  0,  0,  0,  0,  1],\n",
       "       [ 0,  0,  0,  0,  0, 29,  0,  1,  0,  0],\n",
       "       [ 0,  1,  0,  0,  0,  1, 34,  0,  0,  0],\n",
       "       [ 0,  0,  0,  0,  0,  0,  0, 41,  0,  0],\n",
       "       [ 1,  1,  1,  0,  1,  0,  0,  0, 29,  0],\n",
       "       [ 0,  0,  0,  1,  0,  2,  0,  0,  1, 28]], dtype=int64)"
      ]
     },
     "execution_count": 25,
     "metadata": {},
     "output_type": "execute_result"
    }
   ],
   "source": [
    "y_predicted = model.predict(X_test)\n",
    "from sklearn.metrics import confusion_matrix\n",
    "\n",
    "cm=confusion_matrix(y_test,y_predicted)\n",
    "cm"
   ]
  },
  {
   "cell_type": "code",
   "execution_count": 26,
   "metadata": {},
   "outputs": [
    {
     "data": {
      "text/plain": [
       "Text(69.0, 0.5, 'Truth')"
      ]
     },
     "execution_count": 26,
     "metadata": {},
     "output_type": "execute_result"
    },
    {
     "data": {
      "image/png": "[encoded data removed]",
      "text/plain": [
       "<Figure size 720x504 with 2 Axes>"
      ]
     },
     "metadata": {
      "needs_background": "light"
     },
     "output_type": "display_data"
    }
   ],
   "source": [
    "import seaborn as sns\n",
    "plt.figure(figsize=(10,7))\n",
    "sns.heatmap(cm,annot=True)\n",
    "plt.xlabel(\"Predicted\")\n",
    "plt.ylabel('Truth')"
   ]
  },
  {
   "cell_type": "code",
   "execution_count": null,
   "metadata": {},
   "outputs": [],
   "source": []
  }
 ],
 "metadata": {
  "kernelspec": {
   "display_name": "Python 3",
   "language": "python",
   "name": "python3"
  },
  "language_info": {
   "codemirror_mode": {
    "name": "ipython",
    "version": 3
   },
   "file_extension": ".py",
   "mimetype": "text/x-python",
   "name": "python",
   "nbconvert_exporter": "python",
   "pygments_lexer": "ipython3",
   "version": "3.7.7"
  }
 },
 "nbformat": 4,
 "nbformat_minor": 4
}
