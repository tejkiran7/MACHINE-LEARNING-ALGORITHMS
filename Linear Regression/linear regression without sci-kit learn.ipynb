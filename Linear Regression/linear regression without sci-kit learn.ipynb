{
 "cells": [
  {
   "cell_type": "code",
   "execution_count": 88,
   "metadata": {},
   "outputs": [],
   "source": [
    "import pandas as pd\n",
    "import numpy as np\n",
    "import matplotlib.pyplot as plt\n",
    "%matplotlib inline"
   ]
  },
  {
   "cell_type": "code",
   "execution_count": 78,
   "metadata": {},
   "outputs": [
    {
     "data": {
      "text/html": [
       "<div>\n",
       "<style scoped>\n",
       "    .dataframe tbody tr th:only-of-type {\n",
       "        vertical-align: middle;\n",
       "    }\n",
       "\n",
       "    .dataframe tbody tr th {\n",
       "        vertical-align: top;\n",
       "    }\n",
       "\n",
       "    .dataframe thead th {\n",
       "        text-align: right;\n",
       "    }\n",
       "</style>\n",
       "<table border=\"1\" class=\"dataframe\">\n",
       "  <thead>\n",
       "    <tr style=\"text-align: right;\">\n",
       "      <th></th>\n",
       "      <th>Head Size</th>\n",
       "      <th>Brain Weight</th>\n",
       "    </tr>\n",
       "  </thead>\n",
       "  <tbody>\n",
       "    <tr>\n",
       "      <th>0</th>\n",
       "      <td>4512</td>\n",
       "      <td>1530</td>\n",
       "    </tr>\n",
       "    <tr>\n",
       "      <th>1</th>\n",
       "      <td>3738</td>\n",
       "      <td>1297</td>\n",
       "    </tr>\n",
       "    <tr>\n",
       "      <th>2</th>\n",
       "      <td>4261</td>\n",
       "      <td>1335</td>\n",
       "    </tr>\n",
       "    <tr>\n",
       "      <th>3</th>\n",
       "      <td>3777</td>\n",
       "      <td>1282</td>\n",
       "    </tr>\n",
       "    <tr>\n",
       "      <th>4</th>\n",
       "      <td>4177</td>\n",
       "      <td>1590</td>\n",
       "    </tr>\n",
       "  </tbody>\n",
       "</table>\n",
       "</div>"
      ],
      "text/plain": [
       "   Head Size  Brain Weight\n",
       "0       4512          1530\n",
       "1       3738          1297\n",
       "2       4261          1335\n",
       "3       3777          1282\n",
       "4       4177          1590"
      ]
     },
     "execution_count": 78,
     "metadata": {},
     "output_type": "execute_result"
    }
   ],
   "source": [
    "# data = {'Head Size': [4512,3738,4261,3777,4177],\n",
    "#         'Brain Weight': [1530,1297,1335,1282,1590]}\n",
    "  \n",
    "# df = pd.DataFrame(data)\n",
    "# df"
   ]
  },
  {
   "cell_type": "code",
   "execution_count": 89,
   "metadata": {},
   "outputs": [],
   "source": [
    "df=pd.read_csv(r\"C:\\Users\\TEJKIRAN\\Desktop\\DataAnalytics_files\\student_scores.csv\")\n",
    "X=df['Hours'].values\n",
    "Y=df['Scores'].values"
   ]
  },
  {
   "cell_type": "code",
   "execution_count": 90,
   "metadata": {},
   "outputs": [],
   "source": [
    "# X=df['Head Size'].values\n",
    "# Y=df['Brain Weight'].values\n",
    "mean_x=np.mean(X)\n",
    "mean_y=np.mean(y)"
   ]
  },
  {
   "cell_type": "code",
   "execution_count": 91,
   "metadata": {},
   "outputs": [
    {
     "data": {
      "text/plain": [
       "(5.012, 183.0968369401618)"
      ]
     },
     "execution_count": 91,
     "metadata": {},
     "output_type": "execute_result"
    }
   ],
   "source": [
    "mean_x,mean_y"
   ]
  },
  {
   "cell_type": "code",
   "execution_count": 92,
   "metadata": {},
   "outputs": [
    {
     "name": "stdout",
     "output_type": "stream",
     "text": [
      "m = 9.775803390787464 \n",
      "c = 134.10051034553504\n"
     ]
    }
   ],
   "source": [
    "sum=0\n",
    "sum_of_squ_x=0\n",
    "for i in range(len(X)):\n",
    "    sum+=(X[i]-mean_x)*(Y[i]-mean_y)\n",
    "    sum_of_squ_x += (X[i] - mean_x) ** 2\n",
    "m=sum/sum_of_squ_x\n",
    "c = mean_y - (m * mean_x)\n",
    "print (f'm = {m} \\nc = {c}')"
   ]
  },
  {
   "cell_type": "code",
   "execution_count": 93,
   "metadata": {},
   "outputs": [
    {
     "data": {
      "image/png": "[encoded data removed]",
      "text/plain": [
       "<Figure size 432x288 with 1 Axes>"
      ]
     },
     "metadata": {
      "needs_background": "light"
     },
     "output_type": "display_data"
    }
   ],
   "source": [
    "# plotting values and regression line\n",
    "max_x = np.max(X) + 100\n",
    "min_x = np.min(Y) - 100\n",
    "\n",
    "# calculating line values x and y\n",
    "x = np.linspace (min_x, max_x, 100)\n",
    "y = c + m * x\n",
    "\n",
    "plt.plot(x, y, color='#58b970', label='Regression Line')\n",
    "plt.scatter(X, Y, c='#ef5423', label='data points')\n",
    "\n",
    "plt.xlabel('Head Size in cm')\n",
    "plt.ylabel('Brain Weight in grams')\n",
    "plt.legend()\n",
    "plt.show()"
   ]
  },
  {
   "cell_type": "code",
   "execution_count": 94,
   "metadata": {},
   "outputs": [
    {
     "data": {
      "text/plain": [
       "array([-83.        , -81.05858586, -79.11717172, -77.17575758,\n",
       "       -75.23434343, -73.29292929, -71.35151515, -69.41010101,\n",
       "       -67.46868687, -65.52727273, -63.58585859, -61.64444444,\n",
       "       -59.7030303 , -57.76161616, -55.82020202, -53.87878788,\n",
       "       -51.93737374, -49.9959596 , -48.05454545, -46.11313131,\n",
       "       -44.17171717, -42.23030303, -40.28888889, -38.34747475,\n",
       "       -36.40606061, -34.46464646, -32.52323232, -30.58181818,\n",
       "       -28.64040404, -26.6989899 , -24.75757576, -22.81616162,\n",
       "       -20.87474747, -18.93333333, -16.99191919, -15.05050505,\n",
       "       -13.10909091, -11.16767677,  -9.22626263,  -7.28484848,\n",
       "        -5.34343434,  -3.4020202 ,  -1.46060606,   0.48080808,\n",
       "         2.42222222,   4.36363636,   6.30505051,   8.24646465,\n",
       "        10.18787879,  12.12929293,  14.07070707,  16.01212121,\n",
       "        17.95353535,  19.89494949,  21.83636364,  23.77777778,\n",
       "        25.71919192,  27.66060606,  29.6020202 ,  31.54343434,\n",
       "        33.48484848,  35.42626263,  37.36767677,  39.30909091,\n",
       "        41.25050505,  43.19191919,  45.13333333,  47.07474747,\n",
       "        49.01616162,  50.95757576,  52.8989899 ,  54.84040404,\n",
       "        56.78181818,  58.72323232,  60.66464646,  62.60606061,\n",
       "        64.54747475,  66.48888889,  68.43030303,  70.37171717,\n",
       "        72.31313131,  74.25454545,  76.1959596 ,  78.13737374,\n",
       "        80.07878788,  82.02020202,  83.96161616,  85.9030303 ,\n",
       "        87.84444444,  89.78585859,  91.72727273,  93.66868687,\n",
       "        95.61010101,  97.55151515,  99.49292929, 101.43434343,\n",
       "       103.37575758, 105.31717172, 107.25858586, 109.2       ])"
      ]
     },
     "execution_count": 94,
     "metadata": {},
     "output_type": "execute_result"
    }
   ],
   "source": [
    "x"
   ]
  },
  {
   "cell_type": "code",
   "execution_count": 95,
   "metadata": {},
   "outputs": [
    {
     "name": "stdout",
     "output_type": "stream",
     "text": [
      "0.03261259089882107\n"
     ]
    }
   ],
   "source": [
    "# calculating R-squared value for measuring goodness of our model. \n",
    "\n",
    "ss_t = 0 #total sum of squares\n",
    "ss_r = 0 #total sum of square of residuals\n",
    "val_count=len(X)\n",
    "for i in range(int(val_count)): # val_count represents the no.of input x values\n",
    "  y_pred = c + m * X[i]\n",
    "  ss_t += (Y[i] - mean_y) ** 2\n",
    "  ss_r += (Y[i] - y_pred) ** 2\n",
    "r2 = 1 - (ss_r/ss_t)\n",
    "\n",
    "print(r2)"
   ]
  },
  {
   "cell_type": "code",
   "execution_count": null,
   "metadata": {},
   "outputs": [],
   "source": []
  },
  {
   "cell_type": "code",
   "execution_count": null,
   "metadata": {},
   "outputs": [],
   "source": []
  }
 ],
 "metadata": {
  "kernelspec": {
   "display_name": "Python 3",
   "language": "python",
   "name": "python3"
  },
  "language_info": {
   "codemirror_mode": {
    "name": "ipython",
    "version": 3
   },
   "file_extension": ".py",
   "mimetype": "text/x-python",
   "name": "python",
   "nbconvert_exporter": "python",
   "pygments_lexer": "ipython3",
   "version": "3.7.7"
  }
 },
 "nbformat": 4,
 "nbformat_minor": 4
}
