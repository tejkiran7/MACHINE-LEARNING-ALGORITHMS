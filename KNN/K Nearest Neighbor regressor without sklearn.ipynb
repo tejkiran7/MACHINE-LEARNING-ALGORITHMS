{
 "cells": [
  {
   "cell_type": "code",
   "execution_count": 31,
   "metadata": {},
   "outputs": [],
   "source": [
    "import numpy as np\n",
    "import matplotlib.pyplot as plt"
   ]
  },
  {
   "cell_type": "code",
   "execution_count": 1,
   "metadata": {},
   "outputs": [],
   "source": [
    "from sklearn.datasets import fetch_california_housing\n",
    "X, y = fetch_california_housing(return_X_y=True)"
   ]
  },
  {
   "cell_type": "code",
   "execution_count": 10,
   "metadata": {},
   "outputs": [],
   "source": [
    "train_split_percent = 0.7"
   ]
  },
  {
   "cell_type": "code",
   "execution_count": 14,
   "metadata": {},
   "outputs": [],
   "source": [
    "size = X.shape[0]\n",
    "X_train = X[:int(train_split_percent * size),:]\n",
    "X_test = X[int(train_split_percent * size):,:]\n",
    "y_train = y[:int(train_split_percent * size)]\n",
    "y_test = y[int(train_split_percent * size):]"
   ]
  },
  {
   "cell_type": "markdown",
   "metadata": {},
   "source": [
    "<b>Feature Scaling</b>"
   ]
  },
  {
   "cell_type": "code",
   "execution_count": 19,
   "metadata": {},
   "outputs": [],
   "source": [
    "#Standardizing the X_train and X_test daatsets\n",
    "mu = np.mean(X_train, 0)\n",
    "sigma = np.std(X_train, 0)\n",
    "\n",
    "X_train = (X_train - mu ) / sigma\n",
    "\n",
    "#We use the same mean and SD as the one of X_train as we dont know the mean of X_test\n",
    "X_test = (X_test - mu ) / sigma\n",
    "\n",
    "#Standardizing the y_train data\n",
    "mu_y = np.mean(y_train, 0)\n",
    "sigma_y = np.std(y_train, 0, ddof = 0)\n",
    "\n",
    "y_train = (y_train - mu_y ) / sigma_y"
   ]
  },
  {
   "cell_type": "code",
   "execution_count": 23,
   "metadata": {},
   "outputs": [
    {
     "data": {
      "text/plain": [
       "((14447, 1), (6193, 1), (6193, 1))"
      ]
     },
     "execution_count": 23,
     "metadata": {},
     "output_type": "execute_result"
    }
   ],
   "source": [
    "y_train = y_train.reshape(len(y_train),1)\n",
    "y_test = y_test.reshape(len(y_test),1)\n",
    "y_pred = np.zeros(y_test.shape)\n",
    "y_train.shape, y_test.shape,y_pred.shape"
   ]
  },
  {
   "cell_type": "code",
   "execution_count": 24,
   "metadata": {},
   "outputs": [
    {
     "data": {
      "text/plain": [
       "array([[2.26450396],\n",
       "       [1.42570389],\n",
       "       [1.36865479],\n",
       "       ...,\n",
       "       [0.26065427],\n",
       "       [0.82044858],\n",
       "       [1.14045838]])"
      ]
     },
     "execution_count": 24,
     "metadata": {},
     "output_type": "execute_result"
    }
   ],
   "source": [
    "y_train"
   ]
  },
  {
   "cell_type": "code",
   "execution_count": 25,
   "metadata": {},
   "outputs": [
    {
     "name": "stdout",
     "output_type": "stream",
     "text": [
      "0.8297673466588273\n"
     ]
    }
   ],
   "source": [
    "n_neigh = 10\n",
    "for row in range(len(X_test)):\n",
    "    euclidian_distance = np.sqrt(np.sum((X_train - X_test[row])**2, axis = 1 ))\n",
    "    y_pred[row] = y_train[np.argsort(euclidian_distance, axis = 0)[:n_neigh]].mean()* sigma_y + mu_y\n",
    "    \n",
    "#Finding the root mean squared error \n",
    "\n",
    "RMSE = np.sqrt(np.mean((y_test - y_pred)**2))\n",
    "print(RMSE)"
   ]
  },
  {
   "cell_type": "code",
   "execution_count": 26,
   "metadata": {},
   "outputs": [
    {
     "data": {
      "text/plain": [
       "0.8277836496033618"
      ]
     },
     "execution_count": 26,
     "metadata": {},
     "output_type": "execute_result"
    }
   ],
   "source": [
    "k_list = [x for x in range(1,50,1)]\n",
    "\n",
    "# Calculating the distance matrix using numpy broadcasting technique \n",
    "distance = np.sqrt(((X_train[:, :, None] - X_test[:, :, None].T) ** 2).sum(1))\n",
    "\n",
    "#Sorting each data points of the distance matrix to reduce computational effort \n",
    "sorted_distance = np.argsort(distance, axis = 0)\n",
    "\n",
    "#The knn function takes in the sorted distance and returns the RMSE of the \n",
    "def knn(X_train,X_test,y_train,y_test,sorted_distance,k):\n",
    "    y_pred = np.zeros(y_test.shape)\n",
    "    for row in range(len(X_test)):\n",
    "        \n",
    "        #Transforming the y_train values to adjust the scale. \n",
    "        y_pred[row] = y_train[sorted_distance[:,row][:k]].mean() * sigma_y + mu_y\n",
    "\n",
    "    RMSE = np.sqrt(np.mean((y_test - y_pred)**2))\n",
    "    return RMSE\n",
    "\n",
    "#Storing the RMSE values in a list for each k value \n",
    "rmse_list = []\n",
    "for i in k_list:\n",
    "    rmse_list.append(knn(X_train,X_test,y_train,y_test,sorted_distance,i))\n",
    "\n",
    "min_rmse_k_value = k_list[rmse_list.index(min(rmse_list))]\n",
    "\n",
    "#Finding the lowest possible RMSE\n",
    "optimal_RMSE = knn(X_train,X_test,y_train,y_test,sorted_distance,min_rmse_k_value)\n",
    "optimal_RMSE"
   ]
  },
  {
   "cell_type": "code",
   "execution_count": 32,
   "metadata": {},
   "outputs": [
    {
     "data": {
      "image/png": "[encoded data removed]",
      "text/plain": [
       "<Figure size 576x432 with 1 Axes>"
      ]
     },
     "metadata": {
      "needs_background": "light"
     },
     "output_type": "display_data"
    }
   ],
   "source": [
    "fig, ax = plt.subplots(figsize=(8,6))\n",
    "ax.plot(range(1,50), rmse_list)\n",
    "ax.set_xlabel('# of Nearest Neighbors (k)')\n",
    "ax.set_ylabel('Accuracy (%)');"
   ]
  },
  {
   "cell_type": "code",
   "execution_count": null,
   "metadata": {},
   "outputs": [],
   "source": []
  }
 ],
 "metadata": {
  "kernelspec": {
   "display_name": "Python 3 (ipykernel)",
   "language": "python",
   "name": "python3"
  },
  "language_info": {
   "codemirror_mode": {
    "name": "ipython",
    "version": 3
   },
   "file_extension": ".py",
   "mimetype": "text/x-python",
   "name": "python",
   "nbconvert_exporter": "python",
   "pygments_lexer": "ipython3",
   "version": "3.9.13"
  }
 },
 "nbformat": 4,
 "nbformat_minor": 4
}
