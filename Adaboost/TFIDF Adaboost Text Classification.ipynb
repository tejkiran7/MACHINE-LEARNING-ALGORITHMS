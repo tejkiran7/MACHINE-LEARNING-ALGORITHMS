{
 "cells": [
  {
   "cell_type": "markdown",
   "id": "50beb242",
   "metadata": {},
   "source": [
    "<b>Context</b><br>\n",
    "This dataset (FinancialPhraseBank) contains the sentiments for financial news headlines from the perspective of a retail investor.\n",
    "\n",
    "<b>Content</b><br>\n",
    "The dataset contains two columns, \"Sentiment\" and \"News Headline\". The sentiment can be negative, neutral or positive."
   ]
  },
  {
   "cell_type": "code",
   "execution_count": 2,
   "id": "e0216083",
   "metadata": {},
   "outputs": [],
   "source": [
    "import numpy as np\n",
    "import pandas as pd\n",
    "import matplotlib.pyplot as plt\n",
    "\n",
    "import nltk\n",
    "import re\n",
    "from nltk.stem import WordNetLemmatizer,PorterStemmer\n",
    "from nltk.corpus import stopwords\n",
    "from sklearn.feature_extraction.text import CountVectorizer,TfidfVectorizer\n",
    "\n",
    "from sklearn.metrics import accuracy_score,confusion_matrix\n",
    "from sklearn.ensemble import AdaBoostClassifier\n",
    "from sklearn.tree import DecisionTreeClassifier\n",
    "from sklearn.model_selection import train_test_split\n",
    "import pickle\n",
    "import seaborn as sns\n",
    "import time"
   ]
  },
  {
   "cell_type": "code",
   "execution_count": 5,
   "id": "55497af3",
   "metadata": {},
   "outputs": [
    {
     "data": {
      "text/html": [
       "<div>\n",
       "<style scoped>\n",
       "    .dataframe tbody tr th:only-of-type {\n",
       "        vertical-align: middle;\n",
       "    }\n",
       "\n",
       "    .dataframe tbody tr th {\n",
       "        vertical-align: top;\n",
       "    }\n",
       "\n",
       "    .dataframe thead th {\n",
       "        text-align: right;\n",
       "    }\n",
       "</style>\n",
       "<table border=\"1\" class=\"dataframe\">\n",
       "  <thead>\n",
       "    <tr style=\"text-align: right;\">\n",
       "      <th></th>\n",
       "      <th>Label</th>\n",
       "      <th>Text</th>\n",
       "    </tr>\n",
       "  </thead>\n",
       "  <tbody>\n",
       "    <tr>\n",
       "      <th>0</th>\n",
       "      <td>neutral</td>\n",
       "      <td>According to Gran , the company has no plans t...</td>\n",
       "    </tr>\n",
       "    <tr>\n",
       "      <th>1</th>\n",
       "      <td>neutral</td>\n",
       "      <td>Technopolis plans to develop in stages an area...</td>\n",
       "    </tr>\n",
       "    <tr>\n",
       "      <th>2</th>\n",
       "      <td>negative</td>\n",
       "      <td>The international electronic industry company ...</td>\n",
       "    </tr>\n",
       "    <tr>\n",
       "      <th>3</th>\n",
       "      <td>positive</td>\n",
       "      <td>With the new production plant the company woul...</td>\n",
       "    </tr>\n",
       "    <tr>\n",
       "      <th>4</th>\n",
       "      <td>positive</td>\n",
       "      <td>According to the company 's updated strategy f...</td>\n",
       "    </tr>\n",
       "  </tbody>\n",
       "</table>\n",
       "</div>"
      ],
      "text/plain": [
       "      Label                                               Text\n",
       "0   neutral  According to Gran , the company has no plans t...\n",
       "1   neutral  Technopolis plans to develop in stages an area...\n",
       "2  negative  The international electronic industry company ...\n",
       "3  positive  With the new production plant the company woul...\n",
       "4  positive  According to the company 's updated strategy f..."
      ]
     },
     "execution_count": 5,
     "metadata": {},
     "output_type": "execute_result"
    }
   ],
   "source": [
    "data = pd.read_csv(r'C:\\Users\\TEJKIRAN\\Desktop\\DataAnalytics_files\\all-data.csv',encoding=\"latin1\",header=None)\n",
    "data.columns = [\"Label\",\"Text\"]\n",
    "data.head()"
   ]
  },
  {
   "cell_type": "code",
   "execution_count": 13,
   "id": "0f46fa7c",
   "metadata": {},
   "outputs": [
    {
     "data": {
      "text/plain": [
       "'According to Gran , the company has no plans to move all production to Russia , although that is where the company is growing .'"
      ]
     },
     "execution_count": 13,
     "metadata": {},
     "output_type": "execute_result"
    }
   ],
   "source": [
    "data[\"Text\"][0]"
   ]
  },
  {
   "cell_type": "markdown",
   "id": "51885285",
   "metadata": {},
   "source": [
    "<b>Step 1: Data Analyses</b>"
   ]
  },
  {
   "cell_type": "code",
   "execution_count": 7,
   "id": "0f54f4c0",
   "metadata": {},
   "outputs": [
    {
     "name": "stderr",
     "output_type": "stream",
     "text": [
      "C:\\Users\\TEJKIRAN\\anaconda3\\lib\\site-packages\\seaborn\\_decorators.py:36: FutureWarning: Pass the following variable as a keyword arg: x. From version 0.12, the only valid positional argument will be `data`, and passing other arguments without an explicit keyword will result in an error or misinterpretation.\n",
      "  warnings.warn(\n"
     ]
    },
    {
     "data": {
      "text/plain": [
       "<AxesSubplot:xlabel='Label', ylabel='count'>"
      ]
     },
     "execution_count": 7,
     "metadata": {},
     "output_type": "execute_result"
    },
    {
     "data": {
      "image/png": "[encoded data removed]",
      "text/plain": [
       "<Figure size 640x480 with 1 Axes>"
      ]
     },
     "metadata": {},
     "output_type": "display_data"
    }
   ],
   "source": [
    "sns.countplot(data[\"Label\"])"
   ]
  },
  {
   "cell_type": "markdown",
   "id": "fca4fda8",
   "metadata": {},
   "source": [
    "Then let's take a look at the lenghts by class."
   ]
  },
  {
   "cell_type": "markdown",
   "id": "80fdd511",
   "metadata": {},
   "source": [
    "Dataset is unbalanced, most of the dataset is neutral as we can predict.<br>\n",
    "This may cause problems"
   ]
  },
  {
   "cell_type": "code",
   "execution_count": 8,
   "id": "d874c258",
   "metadata": {},
   "outputs": [
    {
     "data": {
      "text/plain": [
       "Label\n",
       "negative    125.756623\n",
       "neutral     125.072247\n",
       "positive    135.647836\n",
       "Name: len, dtype: float64"
      ]
     },
     "execution_count": 8,
     "metadata": {},
     "output_type": "execute_result"
    }
   ],
   "source": [
    "data[\"len\"] = [len(text) for text in data[\"Text\"].values]\n",
    "\n",
    "data.groupby(\"Label\")[\"len\"].mean()"
   ]
  },
  {
   "cell_type": "code",
   "execution_count": 9,
   "id": "cf846617",
   "metadata": {
    "scrolled": true
   },
   "outputs": [
    {
     "data": {
      "text/html": [
       "<div>\n",
       "<style scoped>\n",
       "    .dataframe tbody tr th:only-of-type {\n",
       "        vertical-align: middle;\n",
       "    }\n",
       "\n",
       "    .dataframe tbody tr th {\n",
       "        vertical-align: top;\n",
       "    }\n",
       "\n",
       "    .dataframe thead th {\n",
       "        text-align: right;\n",
       "    }\n",
       "</style>\n",
       "<table border=\"1\" class=\"dataframe\">\n",
       "  <thead>\n",
       "    <tr style=\"text-align: right;\">\n",
       "      <th></th>\n",
       "      <th>Label</th>\n",
       "      <th>Text</th>\n",
       "      <th>len</th>\n",
       "    </tr>\n",
       "  </thead>\n",
       "  <tbody>\n",
       "    <tr>\n",
       "      <th>0</th>\n",
       "      <td>neutral</td>\n",
       "      <td>According to Gran , the company has no plans t...</td>\n",
       "      <td>127</td>\n",
       "    </tr>\n",
       "    <tr>\n",
       "      <th>1</th>\n",
       "      <td>neutral</td>\n",
       "      <td>Technopolis plans to develop in stages an area...</td>\n",
       "      <td>190</td>\n",
       "    </tr>\n",
       "    <tr>\n",
       "      <th>2</th>\n",
       "      <td>negative</td>\n",
       "      <td>The international electronic industry company ...</td>\n",
       "      <td>228</td>\n",
       "    </tr>\n",
       "    <tr>\n",
       "      <th>3</th>\n",
       "      <td>positive</td>\n",
       "      <td>With the new production plant the company woul...</td>\n",
       "      <td>206</td>\n",
       "    </tr>\n",
       "    <tr>\n",
       "      <th>4</th>\n",
       "      <td>positive</td>\n",
       "      <td>According to the company 's updated strategy f...</td>\n",
       "      <td>203</td>\n",
       "    </tr>\n",
       "    <tr>\n",
       "      <th>...</th>\n",
       "      <td>...</td>\n",
       "      <td>...</td>\n",
       "      <td>...</td>\n",
       "    </tr>\n",
       "    <tr>\n",
       "      <th>4841</th>\n",
       "      <td>negative</td>\n",
       "      <td>LONDON MarketWatch -- Share prices ended lower...</td>\n",
       "      <td>144</td>\n",
       "    </tr>\n",
       "    <tr>\n",
       "      <th>4842</th>\n",
       "      <td>neutral</td>\n",
       "      <td>Rinkuskiai 's beer sales fell by 6.5 per cent ...</td>\n",
       "      <td>148</td>\n",
       "    </tr>\n",
       "    <tr>\n",
       "      <th>4843</th>\n",
       "      <td>negative</td>\n",
       "      <td>Operating profit fell to EUR 35.4 mn from EUR ...</td>\n",
       "      <td>108</td>\n",
       "    </tr>\n",
       "    <tr>\n",
       "      <th>4844</th>\n",
       "      <td>negative</td>\n",
       "      <td>Net sales of the Paper segment decreased to EU...</td>\n",
       "      <td>226</td>\n",
       "    </tr>\n",
       "    <tr>\n",
       "      <th>4845</th>\n",
       "      <td>negative</td>\n",
       "      <td>Sales in Finland decreased by 10.5 % in Januar...</td>\n",
       "      <td>95</td>\n",
       "    </tr>\n",
       "  </tbody>\n",
       "</table>\n",
       "<p>4846 rows × 3 columns</p>\n",
       "</div>"
      ],
      "text/plain": [
       "         Label                                               Text  len\n",
       "0      neutral  According to Gran , the company has no plans t...  127\n",
       "1      neutral  Technopolis plans to develop in stages an area...  190\n",
       "2     negative  The international electronic industry company ...  228\n",
       "3     positive  With the new production plant the company woul...  206\n",
       "4     positive  According to the company 's updated strategy f...  203\n",
       "...        ...                                                ...  ...\n",
       "4841  negative  LONDON MarketWatch -- Share prices ended lower...  144\n",
       "4842   neutral  Rinkuskiai 's beer sales fell by 6.5 per cent ...  148\n",
       "4843  negative  Operating profit fell to EUR 35.4 mn from EUR ...  108\n",
       "4844  negative  Net sales of the Paper segment decreased to EU...  226\n",
       "4845  negative  Sales in Finland decreased by 10.5 % in Januar...   95\n",
       "\n",
       "[4846 rows x 3 columns]"
      ]
     },
     "execution_count": 9,
     "metadata": {},
     "output_type": "execute_result"
    }
   ],
   "source": [
    "data"
   ]
  },
  {
   "cell_type": "markdown",
   "id": "400f7b1f",
   "metadata": {},
   "source": [
    "As we can see length of sentences are unrelated with classes."
   ]
  },
  {
   "cell_type": "markdown",
   "id": "87a32d49",
   "metadata": {},
   "source": [
    "<b>Step 2: Cleaning Texts</b>"
   ]
  },
  {
   "cell_type": "markdown",
   "id": "2359b2c4",
   "metadata": {},
   "source": [
    "In this section we'll clean the texts, in order to clean texts we will define a function."
   ]
  },
  {
   "cell_type": "code",
   "execution_count": 17,
   "id": "2df2d79e",
   "metadata": {},
   "outputs": [],
   "source": [
    "def cleantext(text):\n",
    "    lemma = WordNetLemmatizer()\n",
    "    stp = stopwords.words('english')\n",
    "    \n",
    "    text = re.sub(\"[^a-zA-Z0-9]\",\" \",text)\n",
    "    text = text.lower()\n",
    "    \n",
    "    text = nltk.word_tokenize(text)\n",
    "    \n",
    "    text = [lemma.lemmatize(word) for word in text if word not in stp]\n",
    "    \n",
    "    text = \" \".join(text)\n",
    "    return text"
   ]
  },
  {
   "cell_type": "code",
   "execution_count": 18,
   "id": "7e2b7f66",
   "metadata": {},
   "outputs": [
    {
     "data": {
      "text/plain": [
       "'nowadays interested traditional text feature extraction method want learn foundation'"
      ]
     },
     "execution_count": 18,
     "metadata": {},
     "output_type": "execute_result"
    }
   ],
   "source": [
    "cleantext(\"Nowadays I am interested in traditional text feature extraction methods, because I want to learn foundations\")"
   ]
  },
  {
   "cell_type": "code",
   "execution_count": 20,
   "id": "415bfe62",
   "metadata": {},
   "outputs": [
    {
     "name": "stdout",
     "output_type": "stream",
     "text": [
      "==========\n",
      "Texts are cleaned, this process took 2.3 seconds \n",
      " \n",
      "\n",
      "according gran company plan move production russia although company growing\n"
     ]
    }
   ],
   "source": [
    "start_time = time.time()\n",
    "cleanedText = []\n",
    "for text in data[\"Text\"]:\n",
    "    \n",
    "    cleanedText.append(cleantext(text))\n",
    "end_time = time.time()\n",
    "process_time = round(end_time-start_time,2)\n",
    "\n",
    "print(\"=\"*10)\n",
    "print(\"Texts are cleaned, this process took {} seconds \\n \\n\".format(process_time))\n",
    "\n",
    "print(cleanedText[0])"
   ]
  },
  {
   "cell_type": "code",
   "execution_count": 22,
   "id": "c2b883ef",
   "metadata": {},
   "outputs": [
    {
     "data": {
      "text/plain": [
       "neutral     2879\n",
       "positive    1363\n",
       "negative     604\n",
       "Name: Label, dtype: int64"
      ]
     },
     "execution_count": 22,
     "metadata": {},
     "output_type": "execute_result"
    }
   ],
   "source": [
    "data[\"Label\"].value_counts()"
   ]
  },
  {
   "cell_type": "code",
   "execution_count": 25,
   "id": "a4583ff3",
   "metadata": {},
   "outputs": [],
   "source": [
    "y = []\n",
    "for label in data[\"Label\"]:\n",
    "    \n",
    "    if label==\"negative\":\n",
    "        y.append(0)\n",
    "        \n",
    "    elif label==\"positive\":\n",
    "        y.append(2)\n",
    "        \n",
    "    elif label==\"neutral\":\n",
    "        y.append(1)\n",
    "\n",
    "y = np.asarray(y)"
   ]
  },
  {
   "cell_type": "code",
   "execution_count": 26,
   "id": "9975f792",
   "metadata": {},
   "outputs": [
    {
     "data": {
      "text/plain": [
       "array([1, 1, 0, ..., 0, 0, 0])"
      ]
     },
     "execution_count": 26,
     "metadata": {},
     "output_type": "execute_result"
    }
   ],
   "source": [
    "y"
   ]
  },
  {
   "cell_type": "markdown",
   "id": "226f3adb",
   "metadata": {},
   "source": [
    "<b>Step 3: Implementing TF-IDF Vectorizing</b>"
   ]
  },
  {
   "cell_type": "code",
   "execution_count": 29,
   "id": "dc8f78ec",
   "metadata": {},
   "outputs": [
    {
     "name": "stdout",
     "output_type": "stream",
     "text": [
      "Vectorizing cleaned text using TF-IDF approach took 0.12 seconds\n"
     ]
    },
    {
     "data": {
      "text/plain": [
       "(4846, 4000)"
      ]
     },
     "execution_count": 29,
     "metadata": {},
     "output_type": "execute_result"
    }
   ],
   "source": [
    "# First, we need a vectorizer object\n",
    "vectorizer = TfidfVectorizer(max_features=4000)\n",
    "# This means just consider most used 4000 words\n",
    "\n",
    "start = time.time()\n",
    "\n",
    "x = vectorizer.fit_transform(cleanedText).toarray()\n",
    "\n",
    "process_time = round(time.time()-start,2)\n",
    "\n",
    "print(\"Vectorizing cleaned text using TF-IDF approach took {} seconds\".format(process_time))\n",
    "\n",
    "x.shape"
   ]
  },
  {
   "cell_type": "code",
   "execution_count": 31,
   "id": "e9c1b789",
   "metadata": {},
   "outputs": [
    {
     "name": "stdout",
     "output_type": "stream",
     "text": [
      "(3876, 4000)\n",
      "(970, 4000)\n",
      "(3876,)\n",
      "(970,)\n"
     ]
    }
   ],
   "source": [
    "x_train,x_test,y_train,y_test = train_test_split(x,y,random_state=42,test_size=0.2)\n",
    "\n",
    "print(x_train.shape)\n",
    "print(x_test.shape)\n",
    "print(y_train.shape)\n",
    "print(y_test.shape)"
   ]
  },
  {
   "cell_type": "code",
   "execution_count": 32,
   "id": "a78d00ba",
   "metadata": {},
   "outputs": [
    {
     "data": {
      "text/plain": [
       "array([0., 0., 0., ..., 0., 0., 0.])"
      ]
     },
     "execution_count": 32,
     "metadata": {},
     "output_type": "execute_result"
    }
   ],
   "source": [
    "x[0]"
   ]
  },
  {
   "cell_type": "markdown",
   "id": "33a2273c",
   "metadata": {},
   "source": [
    "<b>Step 4: Building and Training Adaboost Classifier</b>"
   ]
  },
  {
   "cell_type": "code",
   "execution_count": 35,
   "id": "8f53463d",
   "metadata": {},
   "outputs": [
    {
     "data": {
      "text/plain": [
       "AdaBoostClassifier(base_estimator=DecisionTreeClassifier())"
      ]
     },
     "execution_count": 35,
     "metadata": {},
     "output_type": "execute_result"
    }
   ],
   "source": [
    "# We'll use 100 weak learners to build a strong learner\n",
    "classifier = AdaBoostClassifier(base_estimator=DecisionTreeClassifier(),n_estimators=50)\n",
    "\n",
    "classifier.fit(x_train,y_train)"
   ]
  },
  {
   "cell_type": "code",
   "execution_count": 36,
   "id": "c515a69c",
   "metadata": {},
   "outputs": [
    {
     "name": "stdout",
     "output_type": "stream",
     "text": [
      "Test set accuracy of our Adaboost Classifier is 72.58\n"
     ]
    },
    {
     "data": {
      "image/png": "[encoded data removed]",
      "text/plain": [
       "<Figure size 600x600 with 2 Axes>"
      ]
     },
     "metadata": {},
     "output_type": "display_data"
    }
   ],
   "source": [
    "y_pred = classifier.predict(x_test)\n",
    "\n",
    "print(\"Test set accuracy of our Adaboost Classifier is {}\".format(round(accuracy_score(y_pred,y_test)*100,2)))\n",
    "\n",
    "plt.subplots(figsize=(6,6))\n",
    "sns.heatmap(confusion_matrix(y_pred=y_pred,y_true=y_test),annot=True,fmt=\".1f\",linewidths=1.5,cmap=\"BuPu_r\")\n",
    "plt.show()"
   ]
  },
  {
   "cell_type": "markdown",
   "id": "eec01cab",
   "metadata": {},
   "source": [
    "Because of our dataset is unbalanced we could'nt train our classifier great.    "
   ]
  },
  {
   "cell_type": "markdown",
   "id": "753cd3c3",
   "metadata": {},
   "source": [
    "<b>Step 5: Saving Model and Defining Test Function</b>"
   ]
  },
  {
   "cell_type": "markdown",
   "id": "0795aedb",
   "metadata": {},
   "source": [
    "In this section we'll save model and vectorizer using pickle object serialization and write a function that takes text as parameter and returns sentiment (neutral,positive,negative)"
   ]
  },
  {
   "cell_type": "code",
   "execution_count": 37,
   "id": "b4758ca8",
   "metadata": {},
   "outputs": [],
   "source": [
    "pickle.dump(classifier,open(\"adaboost.pickle\",\"wb\"))\n",
    "pickle.dump(vectorizer,open(\"vectorizer.pickle\",\"wb\"))"
   ]
  },
  {
   "cell_type": "code",
   "execution_count": 40,
   "id": "348db5b1",
   "metadata": {},
   "outputs": [],
   "source": [
    "def analyseText(text):\n",
    "    \n",
    "    cls = pickle.load(open(\"adaboost.pickle\",\"rb\"))\n",
    "    vct = pickle.load(open(\"vectorizer.pickle\",\"rb\"))\n",
    "    \n",
    "    # First we need to clean the text given\n",
    "    text = cleantext(text)\n",
    "    \n",
    "    # Then we need to vectorize the text\n",
    "    text = vct.transform([text])\n",
    "    \n",
    "    # And let's predict results using vector\n",
    "    pred = cls.predict(text)\n",
    "    \n",
    "    decision = \"neutral\"\n",
    "    \n",
    "    if pred[0] == 0:\n",
    "        decision = \"negative\"\n",
    "        \n",
    "    elif pred[0] == 2:\n",
    "        decision = \"positive\"\n",
    "        \n",
    "    return decision"
   ]
  },
  {
   "cell_type": "code",
   "execution_count": 41,
   "id": "ce87da59",
   "metadata": {},
   "outputs": [
    {
     "data": {
      "text/plain": [
       "'neutral'"
      ]
     },
     "execution_count": 41,
     "metadata": {},
     "output_type": "execute_result"
    }
   ],
   "source": [
    "analyseText(\"Rental of building equipment accounted for 88 percent of the operating income \")"
   ]
  },
  {
   "cell_type": "code",
   "execution_count": 42,
   "id": "721dd24e",
   "metadata": {},
   "outputs": [
    {
     "data": {
      "text/plain": [
       "'positive'"
      ]
     },
     "execution_count": 42,
     "metadata": {},
     "output_type": "execute_result"
    }
   ],
   "source": [
    "analyseText(\"O'Leary 's Material Handling Services , located in Perth , is the leading company in Western Australia that supplies , installs and provides service for tail lifts .\")"
   ]
  }
 ],
 "metadata": {
  "kernelspec": {
   "display_name": "Python 3 (ipykernel)",
   "language": "python",
   "name": "python3"
  },
  "language_info": {
   "codemirror_mode": {
    "name": "ipython",
    "version": 3
   },
   "file_extension": ".py",
   "mimetype": "text/x-python",
   "name": "python",
   "nbconvert_exporter": "python",
   "pygments_lexer": "ipython3",
   "version": "3.9.13"
  }
 },
 "nbformat": 4,
 "nbformat_minor": 5
}
