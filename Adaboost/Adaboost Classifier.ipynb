{
 "cells": [
  {
   "cell_type": "code",
   "execution_count": 2,
   "id": "6b18e53b",
   "metadata": {},
   "outputs": [],
   "source": [
    "import numpy as np\n",
    "import pandas as pd\n",
    "\n",
    "from sklearn.model_selection import train_test_split\n",
    "from sklearn.ensemble import AdaBoostClassifier\n",
    "from sklearn.tree import DecisionTreeClassifier"
   ]
  },
  {
   "cell_type": "code",
   "execution_count": 4,
   "id": "5568935f",
   "metadata": {},
   "outputs": [],
   "source": [
    "titanic_data = pd.read_csv(r\"C:\\Users\\TEJKIRAN\\Desktop\\DataAnalytics_files\\titanic.csv\",usecols=[\"Survived\", \"Sex\", \"Age\", \"SibSp\", \"Parch\", \"Fare\", \"Embarked\"]).dropna()\n",
    "titanic_data[\"Sex\"] = titanic_data[\"Sex\"].astype(\"category\").cat.codes\n",
    "titanic_data[\"Embarked\"] = titanic_data[\"Embarked\"].astype(\"category\").cat.codes\n",
    "\n",
    "features = titanic_data.drop(\"Survived\",axis=1)\n",
    "labels = titanic_data[\"Survived\"]\n",
    "\n",
    "X_train, X_test, y_train, y_test = train_test_split(features, labels, test_size=0.2,random_state=101,stratify=labels)\n",
    "# titanic_data.head()"
   ]
  },
  {
   "cell_type": "code",
   "execution_count": 5,
   "id": "5a85c881",
   "metadata": {},
   "outputs": [
    {
     "data": {
      "text/plain": [
       "AdaBoostClassifier(random_state=96)"
      ]
     },
     "execution_count": 5,
     "metadata": {},
     "output_type": "execute_result"
    }
   ],
   "source": [
    "clf = AdaBoostClassifier(random_state=96)\n",
    "clf.fit(X_train,y_train)"
   ]
  },
  {
   "cell_type": "code",
   "execution_count": 6,
   "id": "ee646e56",
   "metadata": {},
   "outputs": [
    {
     "data": {
      "text/plain": [
       "0.8260105448154658"
      ]
     },
     "execution_count": 6,
     "metadata": {},
     "output_type": "execute_result"
    }
   ],
   "source": [
    "clf.score(X_train,y_train)"
   ]
  },
  {
   "cell_type": "code",
   "execution_count": 7,
   "id": "e33518d6",
   "metadata": {},
   "outputs": [
    {
     "data": {
      "text/plain": [
       "0.8391608391608392"
      ]
     },
     "execution_count": 7,
     "metadata": {},
     "output_type": "execute_result"
    }
   ],
   "source": [
    "clf.score(X_test,y_test)"
   ]
  },
  {
   "cell_type": "code",
   "execution_count": null,
   "id": "6c88acd4",
   "metadata": {},
   "outputs": [],
   "source": []
  }
 ],
 "metadata": {
  "kernelspec": {
   "display_name": "Python 3 (ipykernel)",
   "language": "python",
   "name": "python3"
  },
  "language_info": {
   "codemirror_mode": {
    "name": "ipython",
    "version": 3
   },
   "file_extension": ".py",
   "mimetype": "text/x-python",
   "name": "python",
   "nbconvert_exporter": "python",
   "pygments_lexer": "ipython3",
   "version": "3.9.13"
  }
 },
 "nbformat": 4,
 "nbformat_minor": 5
}
